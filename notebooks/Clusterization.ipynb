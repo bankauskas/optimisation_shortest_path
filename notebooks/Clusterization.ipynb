{
 "cells": [
  {
   "cell_type": "markdown",
   "metadata": {},
   "source": [
    "# Klasterinė analizė: Pagrindinės sąvokos \n",
    "# *(Cluster analysis: Basic concepts)*"
   ]
  },
  {
   "cell_type": "markdown",
   "metadata": {},
   "source": [
    "Klasterinė analizė priskiriama prie *(\"Unsupervised learning\")* Mokymasis be mokytojo t.y. nėra iš anksto nustatytų klasių."
   ]
  },
  {
   "cell_type": "code",
   "execution_count": 2,
   "metadata": {
    "collapsed": true
   },
   "outputs": [],
   "source": [
    "                                import os\n",
    "                                import pyodbc \n",
    "                                import pandas                         as pd\n",
    "                                import networkx                       as nx\n",
    "                                import matplotlib.pyplot              as plt\n",
    "                                import numpy                          as np\n",
    "from sklearn                    import cluster\n",
    "from sklearn                    import mixture\n",
    "from collections                import defaultdict\n",
    "from sklearn.metrics.cluster    import normalized_mutual_info_score\n",
    "from sklearn.metrics.cluster    import adjusted_rand_score"
   ]
  },
  {
   "cell_type": "code",
   "execution_count": 3,
   "metadata": {
    "collapsed": true
   },
   "outputs": [],
   "source": [
    "# Comment this if the data visualisations doesn't work\n",
    "%matplotlib inline\n",
    "plt.style.use('seaborn-whitegrid')\n",
    "plt.rcParams['grid.linestyle'] = ':'\n",
    "plt.rcParams['grid.color'] = '#474545'\n",
    "plt.rcParams['axes.edgecolor'] = '#474545'"
   ]
  },
  {
   "cell_type": "code",
   "execution_count": 4,
   "metadata": {
    "collapsed": false
   },
   "outputs": [
    {
     "name": "stdout",
     "output_type": "stream",
     "text": [
      "File path: C:\\Users\\banarn\\projects\\optimisation_shortest_path\\notebooks\n",
      "File name: Clusterization.ipynb\n"
     ]
    }
   ],
   "source": [
    "import os\n",
    "\n",
    "__file__ = 'Clusterization.ipynb'\n",
    "__path__ = os.path.dirname(os.path.realpath(__file__))\n",
    "\n",
    "print('File path: %s' % __path__)\n",
    "print('File name: %s' %__file__)"
   ]
  },
  {
   "cell_type": "code",
   "execution_count": 5,
   "metadata": {
    "collapsed": false
   },
   "outputs": [
    {
     "data": {
      "text/html": [
       "<div>\n",
       "<table border=\"1\" class=\"dataframe\">\n",
       "  <thead>\n",
       "    <tr style=\"text-align: right;\">\n",
       "      <th></th>\n",
       "      <th>NPC</th>\n",
       "      <th>Path</th>\n",
       "      <th>Width</th>\n",
       "      <th>Lenght</th>\n",
       "      <th>LiftPushSpeed</th>\n",
       "      <th>LiftRegularSpeed</th>\n",
       "      <th>RT1EntranceSpeed</th>\n",
       "      <th>RT1ExitSpeed</th>\n",
       "      <th>RT2EntranceSpeed</th>\n",
       "      <th>RT2ExitSpeed</th>\n",
       "      <th>...</th>\n",
       "      <th>Position_5</th>\n",
       "      <th>BR_BR2</th>\n",
       "      <th>BR_BR3</th>\n",
       "      <th>Color_black</th>\n",
       "      <th>Color_chary</th>\n",
       "      <th>Color_none</th>\n",
       "      <th>Color_oack</th>\n",
       "      <th>Color_white</th>\n",
       "      <th>Parts_1</th>\n",
       "      <th>Parts_2</th>\n",
       "    </tr>\n",
       "    <tr>\n",
       "      <th>Product</th>\n",
       "      <th></th>\n",
       "      <th></th>\n",
       "      <th></th>\n",
       "      <th></th>\n",
       "      <th></th>\n",
       "      <th></th>\n",
       "      <th></th>\n",
       "      <th></th>\n",
       "      <th></th>\n",
       "      <th></th>\n",
       "      <th></th>\n",
       "      <th></th>\n",
       "      <th></th>\n",
       "      <th></th>\n",
       "      <th></th>\n",
       "      <th></th>\n",
       "      <th></th>\n",
       "      <th></th>\n",
       "      <th></th>\n",
       "      <th></th>\n",
       "      <th></th>\n",
       "    </tr>\n",
       "  </thead>\n",
       "  <tbody>\n",
       "    <tr>\n",
       "      <th>BR3-IKW202</th>\n",
       "      <td>-0.189990</td>\n",
       "      <td>1</td>\n",
       "      <td>0.099728</td>\n",
       "      <td>-0.054031</td>\n",
       "      <td>0.097934</td>\n",
       "      <td>-0.220126</td>\n",
       "      <td>0.074873</td>\n",
       "      <td>-0.082581</td>\n",
       "      <td>0.058467</td>\n",
       "      <td>0.149686</td>\n",
       "      <td>...</td>\n",
       "      <td>0</td>\n",
       "      <td>0</td>\n",
       "      <td>1</td>\n",
       "      <td>0</td>\n",
       "      <td>0</td>\n",
       "      <td>0</td>\n",
       "      <td>0</td>\n",
       "      <td>1</td>\n",
       "      <td>1</td>\n",
       "      <td>0</td>\n",
       "    </tr>\n",
       "    <tr>\n",
       "      <th>BR3-ITW101-K</th>\n",
       "      <td>-0.023323</td>\n",
       "      <td>0</td>\n",
       "      <td>0.043267</td>\n",
       "      <td>-0.165659</td>\n",
       "      <td>-0.140162</td>\n",
       "      <td>-0.077269</td>\n",
       "      <td>-0.163223</td>\n",
       "      <td>-0.082581</td>\n",
       "      <td>0.058467</td>\n",
       "      <td>0.006828</td>\n",
       "      <td>...</td>\n",
       "      <td>0</td>\n",
       "      <td>0</td>\n",
       "      <td>1</td>\n",
       "      <td>0</td>\n",
       "      <td>0</td>\n",
       "      <td>0</td>\n",
       "      <td>0</td>\n",
       "      <td>1</td>\n",
       "      <td>0</td>\n",
       "      <td>1</td>\n",
       "    </tr>\n",
       "    <tr>\n",
       "      <th>BR3-ITW302</th>\n",
       "      <td>-0.106656</td>\n",
       "      <td>0</td>\n",
       "      <td>0.174103</td>\n",
       "      <td>-0.138334</td>\n",
       "      <td>0.002695</td>\n",
       "      <td>-0.077269</td>\n",
       "      <td>-0.020365</td>\n",
       "      <td>0.047853</td>\n",
       "      <td>0.169578</td>\n",
       "      <td>0.092543</td>\n",
       "      <td>...</td>\n",
       "      <td>0</td>\n",
       "      <td>0</td>\n",
       "      <td>1</td>\n",
       "      <td>0</td>\n",
       "      <td>0</td>\n",
       "      <td>0</td>\n",
       "      <td>0</td>\n",
       "      <td>1</td>\n",
       "      <td>0</td>\n",
       "      <td>1</td>\n",
       "    </tr>\n",
       "  </tbody>\n",
       "</table>\n",
       "<p>3 rows × 29 columns</p>\n",
       "</div>"
      ],
      "text/plain": [
       "                   NPC  Path     Width    Lenght  LiftPushSpeed  \\\n",
       "Product                                                           \n",
       "BR3-IKW202   -0.189990     1  0.099728 -0.054031       0.097934   \n",
       "BR3-ITW101-K -0.023323     0  0.043267 -0.165659      -0.140162   \n",
       "BR3-ITW302   -0.106656     0  0.174103 -0.138334       0.002695   \n",
       "\n",
       "              LiftRegularSpeed  RT1EntranceSpeed  RT1ExitSpeed  \\\n",
       "Product                                                          \n",
       "BR3-IKW202           -0.220126          0.074873     -0.082581   \n",
       "BR3-ITW101-K         -0.077269         -0.163223     -0.082581   \n",
       "BR3-ITW302           -0.077269         -0.020365      0.047853   \n",
       "\n",
       "              RT2EntranceSpeed  RT2ExitSpeed   ...     Position_5  BR_BR2  \\\n",
       "Product                                        ...                          \n",
       "BR3-IKW202            0.058467      0.149686   ...              0       0   \n",
       "BR3-ITW101-K          0.058467      0.006828   ...              0       0   \n",
       "BR3-ITW302            0.169578      0.092543   ...              0       0   \n",
       "\n",
       "              BR_BR3  Color_black  Color_chary  Color_none  Color_oack  \\\n",
       "Product                                                                  \n",
       "BR3-IKW202         1            0            0           0           0   \n",
       "BR3-ITW101-K       1            0            0           0           0   \n",
       "BR3-ITW302         1            0            0           0           0   \n",
       "\n",
       "              Color_white  Parts_1  Parts_2  \n",
       "Product                                      \n",
       "BR3-IKW202              1        1        0  \n",
       "BR3-ITW101-K            1        0        1  \n",
       "BR3-ITW302              1        0        1  \n",
       "\n",
       "[3 rows x 29 columns]"
      ]
     },
     "execution_count": 5,
     "metadata": {},
     "output_type": "execute_result"
    }
   ],
   "source": [
    "df = pd.read_csv('../output/data_nm.csv').set_index('Product')\n",
    "df.head(3)"
   ]
  },
  {
   "cell_type": "markdown",
   "metadata": {},
   "source": [
    "methods for clustering:\n",
    "    \n",
    "* [HDBSCAN](http://hdbscan.readthedocs.io/en/latest/index.html)\n",
    "* DBSCAN\n",
    "* BIRCH"
   ]
  },
  {
   "cell_type": "markdown",
   "metadata": {},
   "source": [
    "## Požymių savybių atranka *(Feature selection)*"
   ]
  },
  {
   "cell_type": "markdown",
   "metadata": {},
   "source": [
    "Parinkimas atliekamas remiantis **Exploratory analysis** rezulstatais"
   ]
  },
  {
   "cell_type": "markdown",
   "metadata": {},
   "source": [
    "[Worcking with dictionarys](https://stackoverflow.com/a/8381589/7347438)"
   ]
  },
  {
   "cell_type": "markdown",
   "metadata": {},
   "source": [
    "## Artumo matas *(Proximity measure)*\n"
   ]
  },
  {
   "cell_type": "code",
   "execution_count": null,
   "metadata": {
    "collapsed": true
   },
   "outputs": [],
   "source": [
    "from sklearn.metrics.pairwise   import euclidean_distances\n",
    "from sklearn.metrics.pairwise   import cosine_distances\n",
    "from sklearn.metrics.pairwise   import manhattan_distances"
   ]
  },
  {
   "cell_type": "code",
   "execution_count": null,
   "metadata": {
    "collapsed": false
   },
   "outputs": [],
   "source": [
    "kClusters = 8\n",
    "idx = list(df.index.values)\n",
    "results = {'Product': idx}\n",
    "\n",
    "euclidean = euclidean_distances(df, df)\n",
    "manhattan = manhattan_distances(df, df)\n",
    "cosine = cosine_distances(df, df)\n",
    "\n",
    "print('Expected clusters qty: %s' % kClusters)\n",
    "print('Lenght of dataframe: %s' % len(idx))"
   ]
  },
  {
   "cell_type": "markdown",
   "metadata": {},
   "source": [
    "### Euclidean distances"
   ]
  },
  {
   "cell_type": "code",
   "execution_count": null,
   "metadata": {
    "collapsed": false
   },
   "outputs": [],
   "source": [
    "# distance_matrix = pd.DataFrame(euclidean_distances(df, df), \n",
    "#                          index = labels, \n",
    "#                          columns = labeals)\n",
    "# distance_matrix.to_csv('output/{}.csv'.format(euclidean_distances.__name__))"
   ]
  },
  {
   "cell_type": "markdown",
   "metadata": {},
   "source": [
    "### Cosine distance"
   ]
  },
  {
   "cell_type": "code",
   "execution_count": null,
   "metadata": {
    "collapsed": false
   },
   "outputs": [],
   "source": [
    "# distance_matrix = pd.DataFrame(cosine_distances(df, df), \n",
    "#                          index = labels, \n",
    "#                          columns = labels)\n",
    "# distance_matrix.to_csv('../output/{}.csv'.format(cosine_distances.__name__))"
   ]
  },
  {
   "cell_type": "markdown",
   "metadata": {},
   "source": [
    "### Manhattan distances"
   ]
  },
  {
   "cell_type": "code",
   "execution_count": null,
   "metadata": {
    "collapsed": false
   },
   "outputs": [],
   "source": [
    "# distance_matrix = pd.DataFrame(manhattan_distances(df, df), \n",
    "#                          index = labels, \n",
    "#                          columns = labels)\n",
    "# distance_matrix.to_csv('../output/{}.csv'.format(manhattan_distances.__name__))"
   ]
  },
  {
   "cell_type": "markdown",
   "metadata": {},
   "source": [
    "## Klasterizavimo metodai *(Clusterisation algorithms)*\n"
   ]
  },
  {
   "cell_type": "markdown",
   "metadata": {
    "collapsed": false
   },
   "source": [
    "### DBSCAN"
   ]
  },
  {
   "cell_type": "code",
   "execution_count": null,
   "metadata": {
    "collapsed": false
   },
   "outputs": [],
   "source": [
    "import numpy as np\n",
    "\n",
    "from sklearn.cluster import DBSCAN\n",
    "from sklearn import metrics\n",
    "from sklearn.datasets.samples_generator import make_blobs\n",
    "from sklearn.preprocessing import StandardScaler\n",
    "from sklearn.model_selection import GridSearchCV"
   ]
  },
  {
   "cell_type": "code",
   "execution_count": null,
   "metadata": {
    "collapsed": false
   },
   "outputs": [],
   "source": [
    "import itertools\n",
    "\n",
    "parameter_grid = dict(\n",
    "    eps=np.arange(0.1, 1.1, 0.1),\n",
    "    min_samples = np.arange(1, 21, 1)\n",
    ")\n",
    "\n",
    "def split_grid(parameter_grid):\n",
    "    \"\"\"Input: {x:[y]}, Output: [{x:y}]\"\"\"\n",
    "    return [list_of_toople_to_dic([*zip(parameter_grid.keys(), values)]) \n",
    "            for values \n",
    "            in [*itertools.product(*parameter_grid.values())]]        \n",
    "        \n",
    "def list_of_toople_to_dic(values):\n",
    "    \"\"\"Input: [(x,y)], Output: {x:y}\"\"\"\n",
    "    return {key:value for key, value in values}\n",
    "\n",
    "options_grid = split_grid(parameter_grid)"
   ]
  },
  {
   "cell_type": "code",
   "execution_count": null,
   "metadata": {
    "collapsed": false
   },
   "outputs": [],
   "source": [
    "# Compute DBSCAN\n",
    "\n",
    "def add_metrics(model, values):\n",
    "    labels = model.labels_\n",
    "    n_clusters_ = len(set(labels)) - (1 if -1 in labels else 0)\n",
    "    return {\n",
    "        'Estimated number of clusters' : n_clusters_,\n",
    "        'Silhouette Coefficient' : metrics.silhouette_score(df.values, labels)\\\n",
    "        if n_clusters_ != 0 else -1\n",
    "    } \n",
    "\n",
    "metrics_results = {}\n",
    "\n",
    "for options in options_grid:\n",
    "    db = DBSCAN(n_jobs=-1, **options).fit(df.values)\n",
    "    \n",
    "    dic_metric = add_metrics(db, df.values)\n",
    "    \n",
    "    metrics_results.setdefault('Parameters', []).append(options)\n",
    "    \n",
    "    for metric in dic_metric:\n",
    "        metrics_results.setdefault(metric, [])\\\n",
    "        .append(metrics_results[metric])\n",
    "\n",
    "        \n",
    "#     core_samples_mask = np.zeros_like(db.labels_, dtype=bool)\n",
    "#     core_samples_mask[db.core_sample_indices_] = True\n",
    "    \n",
    "\n",
    "#     print('Clusterization model: \\n{}\\n'.format(db))\n",
    "# #     print('Lenght of labels: {}'.format(len(labels)))\n",
    "\n",
    "#     # Number of clusters in labels, ignoring noise if present.\n",
    "#     n_clusters_ = len(set(labels)) - (1 if -1 in labels else 0)\n",
    "\n",
    "#     \n",
    "# #     print('numer of noise: %s' % labels == -1)\n",
    "#     print(\"Silhouette Coefficient: %0.3f\"\n",
    "#           % metrics.silhouette_score(df.values, labels))"
   ]
  },
  {
   "cell_type": "code",
   "execution_count": null,
   "metadata": {
    "collapsed": false
   },
   "outputs": [],
   "source": [
    "pd.DataFrame(metrics_results)"
   ]
  },
  {
   "cell_type": "code",
   "execution_count": null,
   "metadata": {
    "collapsed": true
   },
   "outputs": [],
   "source": []
  },
  {
   "cell_type": "markdown",
   "metadata": {},
   "source": [
    "The Silhouette Coefficient is calculated using the mean intra-cluster distance ( a ) and the mean nearest-cluster distance ( b ) for each sample. ... To obtain the values for each sample, use silhouette_samples . The best value is 1 and the worst value is -1. Values near 0 indicate overlapping clusters."
   ]
  },
  {
   "cell_type": "code",
   "execution_count": null,
   "metadata": {
    "collapsed": false
   },
   "outputs": [],
   "source": [
    "print(\"Silhouette Coefficient: %0.3f\"\n",
    "      % metrics.silhouette_score(df.values, labels))"
   ]
  },
  {
   "cell_type": "markdown",
   "metadata": {},
   "source": [
    "## Klasterizavimo evoliucija *(Evaluation of clustering)*"
   ]
  },
  {
   "cell_type": "markdown",
   "metadata": {},
   "source": [
    "## Tikrinimas / vertinimas rezultatų *(Validation of the results)*"
   ]
  },
  {
   "cell_type": "markdown",
   "metadata": {},
   "source": [
    "### Clustering metrics\n",
    "See the Clustering performance evaluation section of the user guide for further details.\n",
    "There are two forms of evaluation:\n",
    "* **supervised**, which uses a ground truth class values for each sample.\n",
    "* **unsupervised**, which does not and measures the ‘quality’ of the model itself."
   ]
  },
  {
   "cell_type": "markdown",
   "metadata": {},
   "source": [
    "## Rezultatų interpretavimas *(Interpretation of the results)*"
   ]
  },
  {
   "cell_type": "markdown",
   "metadata": {},
   "source": [
    "## K-Means Clustering\n",
    "\n",
    "K-means is considered by many the gold standard when it comes to clustering due to its simplicity and performance, and it's the first one we'll try out. When you have no idea at all what algorithm to use, K-means is usually the first choice. Bear in mind that K-means might under-perform sometimes due to its concept: spherical clusters that are separable in a way so that the mean value converges towards the cluster center. To simply construct and train a K-means model, use the follow lines:"
   ]
  },
  {
   "cell_type": "code",
   "execution_count": null,
   "metadata": {
    "collapsed": true
   },
   "outputs": [],
   "source": [
    "# K-means Clustering Model\n",
    "kmeans = cluster.KMeans(n_clusters=kClusters, n_init=200)\n",
    "# kmeans.fit(edgeMat)\n",
    "kmeans.fit(data)\n",
    "\n",
    "# Transform our data to list form and store them in results list\n",
    "results.append(list(kmeans.labels_))"
   ]
  },
  {
   "cell_type": "markdown",
   "metadata": {},
   "source": [
    "#### Agglomerative Clustering\n",
    "\n",
    "The main idea behind agglomerative clustering is that each node starts in its own cluster, and recursively merges with the pair of clusters that minimally increases a given linkage distance. The main advantage of agglomerative clustering (and hierarchical clustering in general) is that you don’t need to specify the number of clusters. That of course, comes with a price: performance. But, in scikit’s implementation, you can specify the number of clusters to assist the algorithm’s performance. To create and train an agglomerative model use the following code:"
   ]
  },
  {
   "cell_type": "code",
   "execution_count": null,
   "metadata": {
    "collapsed": true
   },
   "outputs": [],
   "source": [
    "# Agglomerative Clustering Model\n",
    "agglomerative = cluster.AgglomerativeClustering(n_clusters=kClusters, linkage=\"ward\")\n",
    "agglomerative.fit(edgeMat)\n",
    "\n",
    "# Transform our data to list form and store them in results list\n",
    "results.append(list(agglomerative.labels_))"
   ]
  },
  {
   "cell_type": "markdown",
   "metadata": {},
   "source": [
    "#### Spectral\n",
    "\n",
    "The Spectral clustering technique applies clustering to a projection of the normalized Laplacian. When it comes to image clustering, spectral clustering works quite well. See the next few lines of Python for all the magic:"
   ]
  },
  {
   "cell_type": "code",
   "execution_count": null,
   "metadata": {
    "collapsed": true
   },
   "outputs": [],
   "source": [
    "# Spectral Clustering Model\n",
    "spectral = cluster.SpectralClustering(n_clusters=kClusters, affinity=\"precomputed\", n_init= 200)\n",
    "spectral.fit(edgeMat)\n",
    "\n",
    "# Transform our data to list form and store them in results list\n",
    "results.append(list(spectral.labels_))"
   ]
  },
  {
   "cell_type": "markdown",
   "metadata": {},
   "source": [
    "#### Affinity Propagation\n",
    "\n",
    "Well this one is a bit different. Unlike the previous algorithms, you can see AF does not require the number of clusters to be determined before running the algorithm. AF, performs really well on several computer vision and biology problems, such as clustering pictures of human faces and identifying regulated transcripts:"
   ]
  },
  {
   "cell_type": "code",
   "execution_count": null,
   "metadata": {
    "collapsed": true
   },
   "outputs": [],
   "source": [
    "# Affinity Propagation Clustering Model\n",
    "affinity = cluster.affinity_propagation(S=edgeMat, max_iter=200, damping=0.6)\n",
    "\n",
    "# Transform our data to list form and store them in results list\n",
    "results.append(list(affinity[1]))"
   ]
  },
  {
   "cell_type": "markdown",
   "metadata": {},
   "source": [
    "# Metrics & Plotting"
   ]
  }
 ],
 "metadata": {
  "kernelspec": {
   "display_name": "Python 3",
   "language": "python",
   "name": "python3"
  },
  "language_info": {
   "codemirror_mode": {
    "name": "ipython",
    "version": 3
   },
   "file_extension": ".py",
   "mimetype": "text/x-python",
   "name": "python",
   "nbconvert_exporter": "python",
   "pygments_lexer": "ipython3",
   "version": "3.6.0"
  }
 },
 "nbformat": 4,
 "nbformat_minor": 2
}
