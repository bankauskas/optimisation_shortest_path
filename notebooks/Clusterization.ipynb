{
 "cells": [
  {
   "cell_type": "markdown",
   "metadata": {},
   "source": [
    "# Klasterinė analizė: Pagrindinės sąvokos \n",
    "# *(Cluster analysis: Basic concepts)*"
   ]
  },
  {
   "cell_type": "markdown",
   "metadata": {},
   "source": [
    "Klasterinė analizė priskiriama prie *(\"Unsupervised learning\")* Mokymasis be mokytojo t.y. nėra iš anksto nustatytų klasių."
   ]
  },
  {
   "cell_type": "code",
   "execution_count": 133,
   "metadata": {
    "collapsed": true
   },
   "outputs": [],
   "source": [
    "                                import os\n",
    "                                import pyodbc \n",
    "                                import pandas                         as pd\n",
    "                                import networkx                       as nx\n",
    "                                import matplotlib.pyplot              as plt\n",
    "                                import numpy                          as np\n",
    "from sklearn                    import cluster\n",
    "from sklearn                    import mixture\n",
    "from collections                import defaultdict\n",
    "from sklearn.metrics.cluster    import normalized_mutual_info_score\n",
    "from sklearn.metrics.cluster    import adjusted_rand_score"
   ]
  },
  {
   "cell_type": "code",
   "execution_count": 115,
   "metadata": {
    "collapsed": true
   },
   "outputs": [],
   "source": [
    "# Comment this if the data visualisations doesn't work\n",
    "%matplotlib inline\n",
    "plt.style.use('bmh')"
   ]
  },
  {
   "cell_type": "code",
   "execution_count": 116,
   "metadata": {
    "collapsed": true
   },
   "outputs": [],
   "source": [
    "path = 'C:/Users/banarn/optimisation_shortest_path/'\n",
    "os.chdir(path)"
   ]
  },
  {
   "cell_type": "code",
   "execution_count": 117,
   "metadata": {
    "collapsed": false
   },
   "outputs": [
    {
     "data": {
      "text/html": [
       "<div>\n",
       "<table border=\"1\" class=\"dataframe\">\n",
       "  <thead>\n",
       "    <tr style=\"text-align: right;\">\n",
       "      <th></th>\n",
       "      <th>NPC</th>\n",
       "      <th>Parts</th>\n",
       "      <th>Path</th>\n",
       "      <th>Width</th>\n",
       "      <th>Lenght</th>\n",
       "      <th>LiftPushSpeed</th>\n",
       "      <th>LiftRegularSpeed</th>\n",
       "      <th>RT1EntranceSpeed</th>\n",
       "      <th>RT1ExitSpeed</th>\n",
       "      <th>RT2EntranceSpeed</th>\n",
       "      <th>...</th>\n",
       "      <th>Position_3</th>\n",
       "      <th>Position_4</th>\n",
       "      <th>Position_5</th>\n",
       "      <th>BR_BR2</th>\n",
       "      <th>BR_BR3</th>\n",
       "      <th>Color_black</th>\n",
       "      <th>Color_chary</th>\n",
       "      <th>Color_none</th>\n",
       "      <th>Color_oack</th>\n",
       "      <th>Color_white</th>\n",
       "    </tr>\n",
       "    <tr>\n",
       "      <th>Product</th>\n",
       "      <th></th>\n",
       "      <th></th>\n",
       "      <th></th>\n",
       "      <th></th>\n",
       "      <th></th>\n",
       "      <th></th>\n",
       "      <th></th>\n",
       "      <th></th>\n",
       "      <th></th>\n",
       "      <th></th>\n",
       "      <th></th>\n",
       "      <th></th>\n",
       "      <th></th>\n",
       "      <th></th>\n",
       "      <th></th>\n",
       "      <th></th>\n",
       "      <th></th>\n",
       "      <th></th>\n",
       "      <th></th>\n",
       "      <th></th>\n",
       "      <th></th>\n",
       "    </tr>\n",
       "  </thead>\n",
       "  <tbody>\n",
       "    <tr>\n",
       "      <th>BR3-IKW202</th>\n",
       "      <td>-0.194706</td>\n",
       "      <td>-0.194969</td>\n",
       "      <td>1</td>\n",
       "      <td>0.099728</td>\n",
       "      <td>-0.054031</td>\n",
       "      <td>0.094939</td>\n",
       "      <td>-0.225517</td>\n",
       "      <td>0.071878</td>\n",
       "      <td>-0.084769</td>\n",
       "      <td>0.058467</td>\n",
       "      <td>...</td>\n",
       "      <td>1</td>\n",
       "      <td>0</td>\n",
       "      <td>0</td>\n",
       "      <td>0</td>\n",
       "      <td>1</td>\n",
       "      <td>0</td>\n",
       "      <td>0</td>\n",
       "      <td>0</td>\n",
       "      <td>0</td>\n",
       "      <td>1</td>\n",
       "    </tr>\n",
       "    <tr>\n",
       "      <th>BR3-ITW101-K</th>\n",
       "      <td>-0.028040</td>\n",
       "      <td>0.805031</td>\n",
       "      <td>0</td>\n",
       "      <td>0.043267</td>\n",
       "      <td>-0.165659</td>\n",
       "      <td>-0.143157</td>\n",
       "      <td>-0.082659</td>\n",
       "      <td>-0.166217</td>\n",
       "      <td>-0.084769</td>\n",
       "      <td>0.058467</td>\n",
       "      <td>...</td>\n",
       "      <td>0</td>\n",
       "      <td>0</td>\n",
       "      <td>0</td>\n",
       "      <td>0</td>\n",
       "      <td>1</td>\n",
       "      <td>0</td>\n",
       "      <td>0</td>\n",
       "      <td>0</td>\n",
       "      <td>0</td>\n",
       "      <td>1</td>\n",
       "    </tr>\n",
       "    <tr>\n",
       "      <th>BR3-ITW302</th>\n",
       "      <td>-0.111373</td>\n",
       "      <td>0.805031</td>\n",
       "      <td>0</td>\n",
       "      <td>0.174103</td>\n",
       "      <td>-0.138334</td>\n",
       "      <td>-0.000299</td>\n",
       "      <td>-0.082659</td>\n",
       "      <td>-0.023360</td>\n",
       "      <td>0.045666</td>\n",
       "      <td>0.169578</td>\n",
       "      <td>...</td>\n",
       "      <td>1</td>\n",
       "      <td>0</td>\n",
       "      <td>0</td>\n",
       "      <td>0</td>\n",
       "      <td>1</td>\n",
       "      <td>0</td>\n",
       "      <td>0</td>\n",
       "      <td>0</td>\n",
       "      <td>0</td>\n",
       "      <td>1</td>\n",
       "    </tr>\n",
       "    <tr>\n",
       "      <th>BR3-ITW301</th>\n",
       "      <td>-0.028040</td>\n",
       "      <td>0.805031</td>\n",
       "      <td>0</td>\n",
       "      <td>-0.016451</td>\n",
       "      <td>-0.138334</td>\n",
       "      <td>0.142558</td>\n",
       "      <td>0.203055</td>\n",
       "      <td>0.024259</td>\n",
       "      <td>0.306535</td>\n",
       "      <td>0.317727</td>\n",
       "      <td>...</td>\n",
       "      <td>1</td>\n",
       "      <td>0</td>\n",
       "      <td>0</td>\n",
       "      <td>0</td>\n",
       "      <td>1</td>\n",
       "      <td>0</td>\n",
       "      <td>0</td>\n",
       "      <td>0</td>\n",
       "      <td>0</td>\n",
       "      <td>1</td>\n",
       "    </tr>\n",
       "    <tr>\n",
       "      <th>BR3-ITW104</th>\n",
       "      <td>-0.111373</td>\n",
       "      <td>0.805031</td>\n",
       "      <td>0</td>\n",
       "      <td>0.203962</td>\n",
       "      <td>-0.138334</td>\n",
       "      <td>-0.143157</td>\n",
       "      <td>-0.368374</td>\n",
       "      <td>-0.166217</td>\n",
       "      <td>-0.084769</td>\n",
       "      <td>0.058467</td>\n",
       "      <td>...</td>\n",
       "      <td>0</td>\n",
       "      <td>0</td>\n",
       "      <td>0</td>\n",
       "      <td>0</td>\n",
       "      <td>1</td>\n",
       "      <td>0</td>\n",
       "      <td>0</td>\n",
       "      <td>0</td>\n",
       "      <td>0</td>\n",
       "      <td>1</td>\n",
       "    </tr>\n",
       "  </tbody>\n",
       "</table>\n",
       "<p>5 rows × 28 columns</p>\n",
       "</div>"
      ],
      "text/plain": [
       "                   NPC     Parts  Path     Width    Lenght  LiftPushSpeed  \\\n",
       "Product                                                                     \n",
       "BR3-IKW202   -0.194706 -0.194969     1  0.099728 -0.054031       0.094939   \n",
       "BR3-ITW101-K -0.028040  0.805031     0  0.043267 -0.165659      -0.143157   \n",
       "BR3-ITW302   -0.111373  0.805031     0  0.174103 -0.138334      -0.000299   \n",
       "BR3-ITW301   -0.028040  0.805031     0 -0.016451 -0.138334       0.142558   \n",
       "BR3-ITW104   -0.111373  0.805031     0  0.203962 -0.138334      -0.143157   \n",
       "\n",
       "              LiftRegularSpeed  RT1EntranceSpeed  RT1ExitSpeed  \\\n",
       "Product                                                          \n",
       "BR3-IKW202           -0.225517          0.071878     -0.084769   \n",
       "BR3-ITW101-K         -0.082659         -0.166217     -0.084769   \n",
       "BR3-ITW302           -0.082659         -0.023360      0.045666   \n",
       "BR3-ITW301            0.203055          0.024259      0.306535   \n",
       "BR3-ITW104           -0.368374         -0.166217     -0.084769   \n",
       "\n",
       "              RT2EntranceSpeed     ...       Position_3  Position_4  \\\n",
       "Product                            ...                                \n",
       "BR3-IKW202            0.058467     ...                1           0   \n",
       "BR3-ITW101-K          0.058467     ...                0           0   \n",
       "BR3-ITW302            0.169578     ...                1           0   \n",
       "BR3-ITW301            0.317727     ...                1           0   \n",
       "BR3-ITW104            0.058467     ...                0           0   \n",
       "\n",
       "              Position_5  BR_BR2  BR_BR3  Color_black  Color_chary  \\\n",
       "Product                                                              \n",
       "BR3-IKW202             0       0       1            0            0   \n",
       "BR3-ITW101-K           0       0       1            0            0   \n",
       "BR3-ITW302             0       0       1            0            0   \n",
       "BR3-ITW301             0       0       1            0            0   \n",
       "BR3-ITW104             0       0       1            0            0   \n",
       "\n",
       "              Color_none  Color_oack  Color_white  \n",
       "Product                                            \n",
       "BR3-IKW202             0           0            1  \n",
       "BR3-ITW101-K           0           0            1  \n",
       "BR3-ITW302             0           0            1  \n",
       "BR3-ITW301             0           0            1  \n",
       "BR3-ITW104             0           0            1  \n",
       "\n",
       "[5 rows x 28 columns]"
      ]
     },
     "execution_count": 117,
     "metadata": {},
     "output_type": "execute_result"
    }
   ],
   "source": [
    "df = pd.read_csv(path + 'output/data_nm.csv')\n",
    "df = df.set_index('Product')\n",
    "df.head()"
   ]
  },
  {
   "cell_type": "markdown",
   "metadata": {},
   "source": [
    "methods for clustering:\n",
    "    \n",
    "* [HDBSCAN](http://hdbscan.readthedocs.io/en/latest/index.html)\n",
    "* DBSCAN\n",
    "* K Narest"
   ]
  },
  {
   "cell_type": "markdown",
   "metadata": {},
   "source": [
    "## Požymių savybių atranka *(Feature selection)*"
   ]
  },
  {
   "cell_type": "markdown",
   "metadata": {},
   "source": [
    "Parinkimas atliekamas remiantis **Exploratory analysis** rezulstatais"
   ]
  },
  {
   "cell_type": "markdown",
   "metadata": {},
   "source": [
    "[Worcking with dictionarys](https://stackoverflow.com/a/8381589/7347438)"
   ]
  },
  {
   "cell_type": "code",
   "execution_count": 118,
   "metadata": {
    "collapsed": false
   },
   "outputs": [],
   "source": [
    "kClusters = 4\n",
    "labels = list(df.index.values)\n",
    "results = {'Product': labels}\n",
    "nmiResults = []\n",
    "arsResults = []"
   ]
  },
  {
   "cell_type": "markdown",
   "metadata": {},
   "source": [
    "## Artumo matas *(Proximity measure)*\n"
   ]
  },
  {
   "cell_type": "code",
   "execution_count": 119,
   "metadata": {
    "collapsed": true
   },
   "outputs": [],
   "source": [
    "from sklearn.metrics.pairwise   import euclidean_distances\n",
    "from sklearn.metrics.pairwise   import chi2_kernel\n",
    "from sklearn.metrics.pairwise   import cosine_distances\n",
    "from sklearn.metrics.pairwise   import manhattan_distances"
   ]
  },
  {
   "cell_type": "markdown",
   "metadata": {},
   "source": [
    "### Euclidean distances"
   ]
  },
  {
   "cell_type": "code",
   "execution_count": 120,
   "metadata": {
    "collapsed": false
   },
   "outputs": [],
   "source": [
    "distance_matrix = pd.DataFrame(euclidean_distances(df, df), \n",
    "                         index = labels, \n",
    "                         columns = labels)\n",
    "distance_matrix.to_csv(path + 'output/data_euclidean.csv')"
   ]
  },
  {
   "cell_type": "markdown",
   "metadata": {},
   "source": [
    "### Cosine distance"
   ]
  },
  {
   "cell_type": "code",
   "execution_count": 121,
   "metadata": {
    "collapsed": true
   },
   "outputs": [],
   "source": [
    "distance_matrix = pd.DataFrame(euclidean_distances(df, df), \n",
    "                         index = labels, \n",
    "                         columns = labels)\n",
    "distance_matrix.to_csv(path + 'output/data_cosine.csv')"
   ]
  },
  {
   "cell_type": "markdown",
   "metadata": {},
   "source": [
    "### Manhattan distances"
   ]
  },
  {
   "cell_type": "code",
   "execution_count": 122,
   "metadata": {
    "collapsed": false
   },
   "outputs": [],
   "source": [
    "distance_matrix = pd.DataFrame(manhattan_distances(df, df), \n",
    "                         index = labels, \n",
    "                         columns = labels)\n",
    "distance_matrix.to_csv(path + 'output/data_manhattan.csv')"
   ]
  },
  {
   "cell_type": "markdown",
   "metadata": {},
   "source": [
    "Test sample"
   ]
  },
  {
   "cell_type": "code",
   "execution_count": 123,
   "metadata": {
    "collapsed": false
   },
   "outputs": [],
   "source": [
    "# Sample with different data\n",
    "data = pd.read_csv(path + 'input/test.csv')\n",
    "data = data.set_index('Product')\n",
    "data = data.fillna(value = 0, axis = 1)\n",
    "labels = list(data.index.values)\n",
    "binary = ['vienguba', 'dviguba', 'pagrovimo_liftas', 'br1_desinepuse', \n",
    "          'br1_kairepuse', 'br1_grioveliofrezavimas', 'br1_kalibravimas', \n",
    "          'br1_pasukimostalas', 'br2_desinepuse', 'br2_kairepuse', 'br2_grioveliofrezavimas', \n",
    "          'br2_kalibravimas', 'briauna_r15', 'birauna_r70', 'briauna_kt', 'pasukimo_stalas_2', \n",
    "          'dalinimas1', 'Papildomas stalas']\n",
    "data[data.columns.difference(binary)] = data[data.columns.difference(binary)].apply(lambda x: (x - np.mean(x)) / (np.max(x) - np.min(x)))\n",
    "data = data.fillna(value = 0, axis = 1)\n",
    "data_ecld = pd.DataFrame(euclidean_distances(data, data), \n",
    "                         index = labels, \n",
    "                         columns = labels)\n",
    "data_ecld.to_csv(path + 'output/data_ecld_test.csv')"
   ]
  },
  {
   "cell_type": "markdown",
   "metadata": {},
   "source": [
    "## Klasterizavimo kriterijai"
   ]
  },
  {
   "cell_type": "markdown",
   "metadata": {},
   "source": [
    "## Klasterizavimo metodai *(Clusterisation algorithms)*\n",
    "* Gerai atskirti klasteriai *(Well-Separated Clusters)*;\n",
    "* Centru pagrysti klusteriai *(Center-based clusters)*;\n",
    "* Panašumu grysti clusteriai *(Contiguous clusters)*;\n",
    "* Tankiu grysti klusteriai *(Density-based clusters)*;\n",
    "* *(Property or conceptual)*;\n",
    "* Klusteriai pagrysti objekto funkcija: *(Described by an an objective Function)*.\n",
    "    * minimizuoja / maksimizuoja objekto funkciją;\n",
    "    \n"
   ]
  },
  {
   "cell_type": "markdown",
   "metadata": {
    "collapsed": true
   },
   "source": [
    "### Padalijimo metodai *(Partitioning methods)*"
   ]
  },
  {
   "cell_type": "markdown",
   "metadata": {},
   "source": [
    "#### K-Means Clustering"
   ]
  },
  {
   "cell_type": "markdown",
   "metadata": {},
   "source": [
    "K-means is considered by many the gold standard when it comes to clustering due to its simplicity and performance, and it's the first one we'll try out. When you have no idea at all what algorithm to use, K-means is usually the first choice. Bear in mind that K-means might under-perform sometimes due to its concept: spherical clusters that are separable in a way so that the mean value converges towards the cluster center. To simply construct and train a K-means model, use the follow lines:"
   ]
  },
  {
   "cell_type": "code",
   "execution_count": 126,
   "metadata": {
    "collapsed": false
   },
   "outputs": [
    {
     "data": {
      "text/plain": [
       "KMeans(algorithm='auto', copy_x=True, init='k-means++', max_iter=300,\n",
       "    n_clusters=4, n_init=500, n_jobs=1, precompute_distances='auto',\n",
       "    random_state=None, tol=0.0001, verbose=0)"
      ]
     },
     "execution_count": 126,
     "metadata": {},
     "output_type": "execute_result"
    }
   ],
   "source": [
    "# K-means Clustering Model\n",
    "KMeans = cluster.KMeans(n_clusters=kClusters, n_init=500)\n",
    "# kmeans.fit(edgeMat)\n",
    "KMeans.fit(df)\n",
    "\n",
    "# Transform our data to list form and store them in results dict\n",
    "results.update({'KMeans': list(KMeans.labels_)})\n",
    "\n",
    "KMeans"
   ]
  },
  {
   "cell_type": "markdown",
   "metadata": {},
   "source": [
    "### Hierarchinei metodai *(Hierarchical methids)*"
   ]
  },
  {
   "cell_type": "markdown",
   "metadata": {},
   "source": [
    "#### Agglomerative Clustering\n",
    "\n",
    "The main idea behind agglomerative clustering is that each node starts in its own cluster, and recursively merges with the pair of clusters that minimally increases a given linkage distance. The main advantage of agglomerative clustering (and hierarchical clustering in general) is that you don’t need to specify the number of clusters. That of course, comes with a price: performance. But, in scikit’s implementation, you can specify the number of clusters to assist the algorithm’s performance. To create and train an agglomerative model use the following code:"
   ]
  },
  {
   "cell_type": "code",
   "execution_count": 125,
   "metadata": {
    "collapsed": false
   },
   "outputs": [
    {
     "data": {
      "text/plain": [
       "AgglomerativeClustering(affinity='euclidean', compute_full_tree='auto',\n",
       "            connectivity=None, linkage='ward',\n",
       "            memory=Memory(cachedir=None), n_clusters=4,\n",
       "            pooling_func=<function mean at 0x0000000004BA4D08>)"
      ]
     },
     "execution_count": 125,
     "metadata": {},
     "output_type": "execute_result"
    }
   ],
   "source": [
    "# Agglomerative Clustering Model\n",
    "Agglomerative = cluster.AgglomerativeClustering(n_clusters=kClusters, linkage=\"ward\")\n",
    "Agglomerative.fit(df)\n",
    "\n",
    "# Transform our data to list form and store them in results dict\n",
    "results.update({'Agglomerative': list(Agglomerative.labels_)})\n",
    "\n",
    "Agglomerative"
   ]
  },
  {
   "cell_type": "markdown",
   "metadata": {},
   "source": [
    "### Tankiu grysti metodai *(Density-Based methods)*"
   ]
  },
  {
   "cell_type": "markdown",
   "metadata": {},
   "source": [
    "#### Gaussian Mixture"
   ]
  },
  {
   "cell_type": "code",
   "execution_count": 135,
   "metadata": {
    "collapsed": false
   },
   "outputs": [
    {
     "data": {
      "text/plain": [
       "GaussianMixture(covariance_type='full', init_params='kmeans', max_iter=100,\n",
       "        means_init=None, n_components=1, n_init=1, precisions_init=None,\n",
       "        random_state=None, reg_covar=1e-06, tol=0.001, verbose=0,\n",
       "        verbose_interval=10, warm_start=False, weights_init=None)"
      ]
     },
     "execution_count": 135,
     "metadata": {},
     "output_type": "execute_result"
    }
   ],
   "source": [
    "# Gaussian Mixture Clustering Model\n",
    "GaussianMixture = mixture.GaussianMixture()\n",
    "GaussianMixture.fit(df)\n",
    "\n",
    "# Transform our data to list form and store them in results dict\n",
    "#results.update({'GaussianMixture': list(GaussianMixture.labels_)})\n",
    "\n",
    "GaussianMixture"
   ]
  },
  {
   "cell_type": "code",
   "execution_count": null,
   "metadata": {
    "collapsed": true
   },
   "outputs": [],
   "source": []
  },
  {
   "cell_type": "markdown",
   "metadata": {},
   "source": [
    "### Tinkleliu grysti metodai *(Grid-Based methods)*"
   ]
  },
  {
   "cell_type": "code",
   "execution_count": null,
   "metadata": {
    "collapsed": true
   },
   "outputs": [],
   "source": []
  },
  {
   "cell_type": "code",
   "execution_count": null,
   "metadata": {
    "collapsed": true
   },
   "outputs": [],
   "source": []
  },
  {
   "cell_type": "code",
   "execution_count": null,
   "metadata": {
    "collapsed": true
   },
   "outputs": [],
   "source": []
  },
  {
   "cell_type": "code",
   "execution_count": 130,
   "metadata": {
    "collapsed": false
   },
   "outputs": [
    {
     "data": {
      "text/html": [
       "<div>\n",
       "<table border=\"1\" class=\"dataframe\">\n",
       "  <thead>\n",
       "    <tr style=\"text-align: right;\">\n",
       "      <th></th>\n",
       "      <th>Product</th>\n",
       "      <th>agglomerative</th>\n",
       "      <th>dbscan</th>\n",
       "      <th>kmeans</th>\n",
       "    </tr>\n",
       "  </thead>\n",
       "  <tbody>\n",
       "    <tr>\n",
       "      <th>0</th>\n",
       "      <td>BR3-IKW202</td>\n",
       "      <td>3</td>\n",
       "      <td>-1</td>\n",
       "      <td>2</td>\n",
       "    </tr>\n",
       "    <tr>\n",
       "      <th>1</th>\n",
       "      <td>BR3-ITW101-K</td>\n",
       "      <td>0</td>\n",
       "      <td>-1</td>\n",
       "      <td>1</td>\n",
       "    </tr>\n",
       "    <tr>\n",
       "      <th>2</th>\n",
       "      <td>BR3-ITW302</td>\n",
       "      <td>3</td>\n",
       "      <td>-1</td>\n",
       "      <td>0</td>\n",
       "    </tr>\n",
       "    <tr>\n",
       "      <th>3</th>\n",
       "      <td>BR3-ITW301</td>\n",
       "      <td>3</td>\n",
       "      <td>-1</td>\n",
       "      <td>0</td>\n",
       "    </tr>\n",
       "    <tr>\n",
       "      <th>4</th>\n",
       "      <td>BR3-ITW104</td>\n",
       "      <td>0</td>\n",
       "      <td>-1</td>\n",
       "      <td>1</td>\n",
       "    </tr>\n",
       "    <tr>\n",
       "      <th>5</th>\n",
       "      <td>BR3-ITW102</td>\n",
       "      <td>0</td>\n",
       "      <td>-1</td>\n",
       "      <td>1</td>\n",
       "    </tr>\n",
       "    <tr>\n",
       "      <th>6</th>\n",
       "      <td>BR3-ITW202</td>\n",
       "      <td>3</td>\n",
       "      <td>-1</td>\n",
       "      <td>2</td>\n",
       "    </tr>\n",
       "    <tr>\n",
       "      <th>7</th>\n",
       "      <td>BR3-ITW201</td>\n",
       "      <td>3</td>\n",
       "      <td>-1</td>\n",
       "      <td>2</td>\n",
       "    </tr>\n",
       "    <tr>\n",
       "      <th>8</th>\n",
       "      <td>BR3-IRW901</td>\n",
       "      <td>0</td>\n",
       "      <td>-1</td>\n",
       "      <td>1</td>\n",
       "    </tr>\n",
       "    <tr>\n",
       "      <th>9</th>\n",
       "      <td>BR3-IKW203</td>\n",
       "      <td>3</td>\n",
       "      <td>-1</td>\n",
       "      <td>2</td>\n",
       "    </tr>\n",
       "    <tr>\n",
       "      <th>10</th>\n",
       "      <td>BR3-IKW204</td>\n",
       "      <td>3</td>\n",
       "      <td>-1</td>\n",
       "      <td>2</td>\n",
       "    </tr>\n",
       "    <tr>\n",
       "      <th>11</th>\n",
       "      <td>BR2-IKW105</td>\n",
       "      <td>2</td>\n",
       "      <td>-1</td>\n",
       "      <td>3</td>\n",
       "    </tr>\n",
       "    <tr>\n",
       "      <th>12</th>\n",
       "      <td>BR2-IKW903</td>\n",
       "      <td>2</td>\n",
       "      <td>-1</td>\n",
       "      <td>3</td>\n",
       "    </tr>\n",
       "    <tr>\n",
       "      <th>13</th>\n",
       "      <td>BR2-IRW122</td>\n",
       "      <td>2</td>\n",
       "      <td>-1</td>\n",
       "      <td>3</td>\n",
       "    </tr>\n",
       "    <tr>\n",
       "      <th>14</th>\n",
       "      <td>BR3-IRW313</td>\n",
       "      <td>3</td>\n",
       "      <td>-1</td>\n",
       "      <td>2</td>\n",
       "    </tr>\n",
       "    <tr>\n",
       "      <th>15</th>\n",
       "      <td>BR3-IRW215</td>\n",
       "      <td>0</td>\n",
       "      <td>-1</td>\n",
       "      <td>2</td>\n",
       "    </tr>\n",
       "    <tr>\n",
       "      <th>16</th>\n",
       "      <td>BR3-IRW706</td>\n",
       "      <td>0</td>\n",
       "      <td>-1</td>\n",
       "      <td>1</td>\n",
       "    </tr>\n",
       "    <tr>\n",
       "      <th>17</th>\n",
       "      <td>BR3-IRW121</td>\n",
       "      <td>3</td>\n",
       "      <td>-1</td>\n",
       "      <td>0</td>\n",
       "    </tr>\n",
       "    <tr>\n",
       "      <th>18</th>\n",
       "      <td>BR2-IKW902</td>\n",
       "      <td>2</td>\n",
       "      <td>-1</td>\n",
       "      <td>3</td>\n",
       "    </tr>\n",
       "    <tr>\n",
       "      <th>19</th>\n",
       "      <td>BR3-IRW121-A</td>\n",
       "      <td>3</td>\n",
       "      <td>-1</td>\n",
       "      <td>0</td>\n",
       "    </tr>\n",
       "    <tr>\n",
       "      <th>20</th>\n",
       "      <td>BR3-ITW105-K</td>\n",
       "      <td>3</td>\n",
       "      <td>-1</td>\n",
       "      <td>2</td>\n",
       "    </tr>\n",
       "    <tr>\n",
       "      <th>21</th>\n",
       "      <td>BR3-ITW105-D</td>\n",
       "      <td>3</td>\n",
       "      <td>-1</td>\n",
       "      <td>2</td>\n",
       "    </tr>\n",
       "    <tr>\n",
       "      <th>22</th>\n",
       "      <td>BR3-ITW303</td>\n",
       "      <td>3</td>\n",
       "      <td>-1</td>\n",
       "      <td>0</td>\n",
       "    </tr>\n",
       "    <tr>\n",
       "      <th>23</th>\n",
       "      <td>BR3-ITW204</td>\n",
       "      <td>3</td>\n",
       "      <td>-1</td>\n",
       "      <td>2</td>\n",
       "    </tr>\n",
       "    <tr>\n",
       "      <th>24</th>\n",
       "      <td>BR3-ITW203</td>\n",
       "      <td>3</td>\n",
       "      <td>-1</td>\n",
       "      <td>2</td>\n",
       "    </tr>\n",
       "    <tr>\n",
       "      <th>25</th>\n",
       "      <td>BR2-IKW903-1</td>\n",
       "      <td>2</td>\n",
       "      <td>-1</td>\n",
       "      <td>3</td>\n",
       "    </tr>\n",
       "    <tr>\n",
       "      <th>26</th>\n",
       "      <td>BR2-IKW701-A</td>\n",
       "      <td>2</td>\n",
       "      <td>-1</td>\n",
       "      <td>3</td>\n",
       "    </tr>\n",
       "    <tr>\n",
       "      <th>27</th>\n",
       "      <td>BR3-ITW101-D</td>\n",
       "      <td>0</td>\n",
       "      <td>-1</td>\n",
       "      <td>1</td>\n",
       "    </tr>\n",
       "    <tr>\n",
       "      <th>28</th>\n",
       "      <td>BR3-IKW103-D-A</td>\n",
       "      <td>3</td>\n",
       "      <td>-1</td>\n",
       "      <td>2</td>\n",
       "    </tr>\n",
       "    <tr>\n",
       "      <th>29</th>\n",
       "      <td>BR3-ITW103-K</td>\n",
       "      <td>0</td>\n",
       "      <td>-1</td>\n",
       "      <td>1</td>\n",
       "    </tr>\n",
       "    <tr>\n",
       "      <th>...</th>\n",
       "      <td>...</td>\n",
       "      <td>...</td>\n",
       "      <td>...</td>\n",
       "      <td>...</td>\n",
       "    </tr>\n",
       "    <tr>\n",
       "      <th>765</th>\n",
       "      <td>BR3-ISC305</td>\n",
       "      <td>0</td>\n",
       "      <td>-1</td>\n",
       "      <td>1</td>\n",
       "    </tr>\n",
       "    <tr>\n",
       "      <th>766</th>\n",
       "      <td>BR2-IKC902-A</td>\n",
       "      <td>2</td>\n",
       "      <td>-1</td>\n",
       "      <td>3</td>\n",
       "    </tr>\n",
       "    <tr>\n",
       "      <th>767</th>\n",
       "      <td>BR2-IKC902-1</td>\n",
       "      <td>2</td>\n",
       "      <td>-1</td>\n",
       "      <td>3</td>\n",
       "    </tr>\n",
       "    <tr>\n",
       "      <th>768</th>\n",
       "      <td>BR3-IKC702-A</td>\n",
       "      <td>3</td>\n",
       "      <td>-1</td>\n",
       "      <td>0</td>\n",
       "    </tr>\n",
       "    <tr>\n",
       "      <th>769</th>\n",
       "      <td>BR2-IKC702-A</td>\n",
       "      <td>2</td>\n",
       "      <td>-1</td>\n",
       "      <td>3</td>\n",
       "    </tr>\n",
       "    <tr>\n",
       "      <th>770</th>\n",
       "      <td>BR3-IKC702</td>\n",
       "      <td>3</td>\n",
       "      <td>-1</td>\n",
       "      <td>0</td>\n",
       "    </tr>\n",
       "    <tr>\n",
       "      <th>771</th>\n",
       "      <td>BR3-ITC404</td>\n",
       "      <td>3</td>\n",
       "      <td>-1</td>\n",
       "      <td>0</td>\n",
       "    </tr>\n",
       "    <tr>\n",
       "      <th>772</th>\n",
       "      <td>BR3-ITC405</td>\n",
       "      <td>3</td>\n",
       "      <td>-1</td>\n",
       "      <td>0</td>\n",
       "    </tr>\n",
       "    <tr>\n",
       "      <th>773</th>\n",
       "      <td>BR3-ITC107</td>\n",
       "      <td>1</td>\n",
       "      <td>-1</td>\n",
       "      <td>0</td>\n",
       "    </tr>\n",
       "    <tr>\n",
       "      <th>774</th>\n",
       "      <td>BR3-IRC706-A</td>\n",
       "      <td>0</td>\n",
       "      <td>-1</td>\n",
       "      <td>1</td>\n",
       "    </tr>\n",
       "    <tr>\n",
       "      <th>775</th>\n",
       "      <td>BR3-ISC604</td>\n",
       "      <td>0</td>\n",
       "      <td>-1</td>\n",
       "      <td>1</td>\n",
       "    </tr>\n",
       "    <tr>\n",
       "      <th>776</th>\n",
       "      <td>BR3-ITC703</td>\n",
       "      <td>3</td>\n",
       "      <td>-1</td>\n",
       "      <td>0</td>\n",
       "    </tr>\n",
       "    <tr>\n",
       "      <th>777</th>\n",
       "      <td>BR3-ISC209</td>\n",
       "      <td>1</td>\n",
       "      <td>-1</td>\n",
       "      <td>2</td>\n",
       "    </tr>\n",
       "    <tr>\n",
       "      <th>778</th>\n",
       "      <td>BR3-ISC206</td>\n",
       "      <td>1</td>\n",
       "      <td>-1</td>\n",
       "      <td>2</td>\n",
       "    </tr>\n",
       "    <tr>\n",
       "      <th>779</th>\n",
       "      <td>BR2-IKC301</td>\n",
       "      <td>1</td>\n",
       "      <td>-1</td>\n",
       "      <td>3</td>\n",
       "    </tr>\n",
       "    <tr>\n",
       "      <th>780</th>\n",
       "      <td>BR2-IKC701</td>\n",
       "      <td>1</td>\n",
       "      <td>-1</td>\n",
       "      <td>3</td>\n",
       "    </tr>\n",
       "    <tr>\n",
       "      <th>781</th>\n",
       "      <td>BR2-IKC702</td>\n",
       "      <td>1</td>\n",
       "      <td>-1</td>\n",
       "      <td>3</td>\n",
       "    </tr>\n",
       "    <tr>\n",
       "      <th>782</th>\n",
       "      <td>BR3-ISC304</td>\n",
       "      <td>0</td>\n",
       "      <td>-1</td>\n",
       "      <td>1</td>\n",
       "    </tr>\n",
       "    <tr>\n",
       "      <th>783</th>\n",
       "      <td>BR2-IRC122-A</td>\n",
       "      <td>2</td>\n",
       "      <td>-1</td>\n",
       "      <td>3</td>\n",
       "    </tr>\n",
       "    <tr>\n",
       "      <th>784</th>\n",
       "      <td>BR3-ISC103</td>\n",
       "      <td>3</td>\n",
       "      <td>-1</td>\n",
       "      <td>2</td>\n",
       "    </tr>\n",
       "    <tr>\n",
       "      <th>785</th>\n",
       "      <td>BR3-ITC106-D</td>\n",
       "      <td>3</td>\n",
       "      <td>-1</td>\n",
       "      <td>2</td>\n",
       "    </tr>\n",
       "    <tr>\n",
       "      <th>786</th>\n",
       "      <td>BR3-ISC607</td>\n",
       "      <td>0</td>\n",
       "      <td>-1</td>\n",
       "      <td>1</td>\n",
       "    </tr>\n",
       "    <tr>\n",
       "      <th>787</th>\n",
       "      <td>BR3-ISC610</td>\n",
       "      <td>0</td>\n",
       "      <td>-1</td>\n",
       "      <td>1</td>\n",
       "    </tr>\n",
       "    <tr>\n",
       "      <th>788</th>\n",
       "      <td>BR3-ISC613</td>\n",
       "      <td>0</td>\n",
       "      <td>-1</td>\n",
       "      <td>1</td>\n",
       "    </tr>\n",
       "    <tr>\n",
       "      <th>789</th>\n",
       "      <td>BR3-ISC202</td>\n",
       "      <td>0</td>\n",
       "      <td>-1</td>\n",
       "      <td>0</td>\n",
       "    </tr>\n",
       "    <tr>\n",
       "      <th>790</th>\n",
       "      <td>BR3-ISC203</td>\n",
       "      <td>0</td>\n",
       "      <td>-1</td>\n",
       "      <td>0</td>\n",
       "    </tr>\n",
       "    <tr>\n",
       "      <th>791</th>\n",
       "      <td>BR3-ISC204</td>\n",
       "      <td>0</td>\n",
       "      <td>-1</td>\n",
       "      <td>0</td>\n",
       "    </tr>\n",
       "    <tr>\n",
       "      <th>792</th>\n",
       "      <td>BR3-ISC302</td>\n",
       "      <td>0</td>\n",
       "      <td>-1</td>\n",
       "      <td>1</td>\n",
       "    </tr>\n",
       "    <tr>\n",
       "      <th>793</th>\n",
       "      <td>BR3-ISC303</td>\n",
       "      <td>0</td>\n",
       "      <td>-1</td>\n",
       "      <td>1</td>\n",
       "    </tr>\n",
       "    <tr>\n",
       "      <th>794</th>\n",
       "      <td>BR3-ISC102</td>\n",
       "      <td>3</td>\n",
       "      <td>-1</td>\n",
       "      <td>2</td>\n",
       "    </tr>\n",
       "  </tbody>\n",
       "</table>\n",
       "<p>795 rows × 4 columns</p>\n",
       "</div>"
      ],
      "text/plain": [
       "            Product  agglomerative  dbscan  kmeans\n",
       "0        BR3-IKW202              3      -1       2\n",
       "1      BR3-ITW101-K              0      -1       1\n",
       "2        BR3-ITW302              3      -1       0\n",
       "3        BR3-ITW301              3      -1       0\n",
       "4        BR3-ITW104              0      -1       1\n",
       "5        BR3-ITW102              0      -1       1\n",
       "6        BR3-ITW202              3      -1       2\n",
       "7        BR3-ITW201              3      -1       2\n",
       "8        BR3-IRW901              0      -1       1\n",
       "9        BR3-IKW203              3      -1       2\n",
       "10       BR3-IKW204              3      -1       2\n",
       "11       BR2-IKW105              2      -1       3\n",
       "12       BR2-IKW903              2      -1       3\n",
       "13       BR2-IRW122              2      -1       3\n",
       "14       BR3-IRW313              3      -1       2\n",
       "15       BR3-IRW215              0      -1       2\n",
       "16       BR3-IRW706              0      -1       1\n",
       "17       BR3-IRW121              3      -1       0\n",
       "18       BR2-IKW902              2      -1       3\n",
       "19     BR3-IRW121-A              3      -1       0\n",
       "20     BR3-ITW105-K              3      -1       2\n",
       "21     BR3-ITW105-D              3      -1       2\n",
       "22       BR3-ITW303              3      -1       0\n",
       "23       BR3-ITW204              3      -1       2\n",
       "24       BR3-ITW203              3      -1       2\n",
       "25     BR2-IKW903-1              2      -1       3\n",
       "26     BR2-IKW701-A              2      -1       3\n",
       "27     BR3-ITW101-D              0      -1       1\n",
       "28   BR3-IKW103-D-A              3      -1       2\n",
       "29     BR3-ITW103-K              0      -1       1\n",
       "..              ...            ...     ...     ...\n",
       "765      BR3-ISC305              0      -1       1\n",
       "766    BR2-IKC902-A              2      -1       3\n",
       "767    BR2-IKC902-1              2      -1       3\n",
       "768    BR3-IKC702-A              3      -1       0\n",
       "769    BR2-IKC702-A              2      -1       3\n",
       "770      BR3-IKC702              3      -1       0\n",
       "771      BR3-ITC404              3      -1       0\n",
       "772      BR3-ITC405              3      -1       0\n",
       "773      BR3-ITC107              1      -1       0\n",
       "774    BR3-IRC706-A              0      -1       1\n",
       "775      BR3-ISC604              0      -1       1\n",
       "776      BR3-ITC703              3      -1       0\n",
       "777      BR3-ISC209              1      -1       2\n",
       "778      BR3-ISC206              1      -1       2\n",
       "779      BR2-IKC301              1      -1       3\n",
       "780      BR2-IKC701              1      -1       3\n",
       "781      BR2-IKC702              1      -1       3\n",
       "782      BR3-ISC304              0      -1       1\n",
       "783    BR2-IRC122-A              2      -1       3\n",
       "784      BR3-ISC103              3      -1       2\n",
       "785    BR3-ITC106-D              3      -1       2\n",
       "786      BR3-ISC607              0      -1       1\n",
       "787      BR3-ISC610              0      -1       1\n",
       "788      BR3-ISC613              0      -1       1\n",
       "789      BR3-ISC202              0      -1       0\n",
       "790      BR3-ISC203              0      -1       0\n",
       "791      BR3-ISC204              0      -1       0\n",
       "792      BR3-ISC302              0      -1       1\n",
       "793      BR3-ISC303              0      -1       1\n",
       "794      BR3-ISC102              3      -1       2\n",
       "\n",
       "[795 rows x 4 columns]"
      ]
     },
     "execution_count": 130,
     "metadata": {},
     "output_type": "execute_result"
    }
   ],
   "source": [
    "pd.DataFrame.from_dict(results)"
   ]
  },
  {
   "cell_type": "markdown",
   "metadata": {},
   "source": [
    "## Klasterizavimo evoliucija *(Evaluation of clustering)*"
   ]
  },
  {
   "cell_type": "markdown",
   "metadata": {},
   "source": [
    "## Tikrinimas / vertinimas rezultatų *(Validation of the results)*"
   ]
  },
  {
   "cell_type": "markdown",
   "metadata": {},
   "source": [
    "### Clustering metrics\n",
    "See the Clustering performance evaluation section of the user guide for further details.\n",
    "There are two forms of evaluation:\n",
    "* **supervised**, which uses a ground truth class values for each sample.\n",
    "* **unsupervised**, which does not and measures the ‘quality’ of the model itself."
   ]
  },
  {
   "cell_type": "markdown",
   "metadata": {},
   "source": [
    "## Rezultatų interpretavimas *(Interpretation of the results)*"
   ]
  },
  {
   "cell_type": "markdown",
   "metadata": {},
   "source": [
    "# SAMPLE"
   ]
  },
  {
   "cell_type": "code",
   "execution_count": 38,
   "metadata": {
    "collapsed": true
   },
   "outputs": [],
   "source": [
    "kClusters = 4\n",
    "results = []\n",
    "nmiResults = []\n",
    "arsResults = []\n",
    "\n",
    "G = nx.karate_club_graph()\n",
    "groundTruth = [0,0,0,0,0,0,0,0,1,1,0,0,0,0,1,1,0,0,1,0,1,0,1,1,1,1,1,1,1,1,1,1,1,1]"
   ]
  },
  {
   "cell_type": "code",
   "execution_count": 39,
   "metadata": {
    "collapsed": false
   },
   "outputs": [],
   "source": [
    "def graphToEdgeMatrix(G):\n",
    "\n",
    "    # Initialize Edge Matrix\n",
    "    edgeMat = [[0 for x in range(len(G))] for y in range(len(G))]\n",
    "\n",
    "    # For loop to set 0 or 1 ( diagonal elements are set to 1)\n",
    "    for node in G:\n",
    "        tempNeighList = G.neighbors(node)\n",
    "        for neighbor in tempNeighList:\n",
    "            edgeMat[node][neighbor] = 1\n",
    "        edgeMat[node][node] = 1\n",
    "\n",
    "    return edgeMat"
   ]
  },
  {
   "cell_type": "code",
   "execution_count": 40,
   "metadata": {
    "collapsed": false
   },
   "outputs": [],
   "source": [
    "edgeMat = graphToEdgeMatrix(G)"
   ]
  },
  {
   "cell_type": "markdown",
   "metadata": {},
   "source": [
    "## K-Means Clustering\n",
    "\n",
    "K-means is considered by many the gold standard when it comes to clustering due to its simplicity and performance, and it's the first one we'll try out. When you have no idea at all what algorithm to use, K-means is usually the first choice. Bear in mind that K-means might under-perform sometimes due to its concept: spherical clusters that are separable in a way so that the mean value converges towards the cluster center. To simply construct and train a K-means model, use the follow lines:"
   ]
  },
  {
   "cell_type": "code",
   "execution_count": 41,
   "metadata": {
    "collapsed": true
   },
   "outputs": [
    {
     "ename": "ValueError",
     "evalue": "could not convert string to float: 'chary'",
     "output_type": "error",
     "traceback": [
      "\u001b[0;31m---------------------------------------------------------------------------\u001b[0m",
      "\u001b[0;31mValueError\u001b[0m                                Traceback (most recent call last)",
      "\u001b[0;32m<ipython-input-41-164c0660da32>\u001b[0m in \u001b[0;36m<module>\u001b[0;34m()\u001b[0m\n\u001b[1;32m      2\u001b[0m \u001b[0mkmeans\u001b[0m \u001b[1;33m=\u001b[0m \u001b[0mcluster\u001b[0m\u001b[1;33m.\u001b[0m\u001b[0mKMeans\u001b[0m\u001b[1;33m(\u001b[0m\u001b[0mn_clusters\u001b[0m\u001b[1;33m=\u001b[0m\u001b[0mkClusters\u001b[0m\u001b[1;33m,\u001b[0m \u001b[0mn_init\u001b[0m\u001b[1;33m=\u001b[0m\u001b[1;36m200\u001b[0m\u001b[1;33m)\u001b[0m\u001b[1;33m\u001b[0m\u001b[0m\n\u001b[1;32m      3\u001b[0m \u001b[1;31m# kmeans.fit(edgeMat)\u001b[0m\u001b[1;33m\u001b[0m\u001b[1;33m\u001b[0m\u001b[0m\n\u001b[0;32m----> 4\u001b[0;31m \u001b[0mkmeans\u001b[0m\u001b[1;33m.\u001b[0m\u001b[0mfit\u001b[0m\u001b[1;33m(\u001b[0m\u001b[0mdata\u001b[0m\u001b[1;33m)\u001b[0m\u001b[1;33m\u001b[0m\u001b[0m\n\u001b[0m\u001b[1;32m      5\u001b[0m \u001b[1;33m\u001b[0m\u001b[0m\n\u001b[1;32m      6\u001b[0m \u001b[1;31m# Transform our data to list form and store them in results list\u001b[0m\u001b[1;33m\u001b[0m\u001b[1;33m\u001b[0m\u001b[0m\n",
      "\u001b[0;32mC:\\Users\\banarn\\AppData\\Local\\Continuum\\Anaconda3\\lib\\site-packages\\sklearn\\cluster\\k_means_.py\u001b[0m in \u001b[0;36mfit\u001b[0;34m(self, X, y)\u001b[0m\n\u001b[1;32m    878\u001b[0m         \"\"\"\n\u001b[1;32m    879\u001b[0m         \u001b[0mrandom_state\u001b[0m \u001b[1;33m=\u001b[0m \u001b[0mcheck_random_state\u001b[0m\u001b[1;33m(\u001b[0m\u001b[0mself\u001b[0m\u001b[1;33m.\u001b[0m\u001b[0mrandom_state\u001b[0m\u001b[1;33m)\u001b[0m\u001b[1;33m\u001b[0m\u001b[0m\n\u001b[0;32m--> 880\u001b[0;31m         \u001b[0mX\u001b[0m \u001b[1;33m=\u001b[0m \u001b[0mself\u001b[0m\u001b[1;33m.\u001b[0m\u001b[0m_check_fit_data\u001b[0m\u001b[1;33m(\u001b[0m\u001b[0mX\u001b[0m\u001b[1;33m)\u001b[0m\u001b[1;33m\u001b[0m\u001b[0m\n\u001b[0m\u001b[1;32m    881\u001b[0m \u001b[1;33m\u001b[0m\u001b[0m\n\u001b[1;32m    882\u001b[0m         \u001b[0mself\u001b[0m\u001b[1;33m.\u001b[0m\u001b[0mcluster_centers_\u001b[0m\u001b[1;33m,\u001b[0m \u001b[0mself\u001b[0m\u001b[1;33m.\u001b[0m\u001b[0mlabels_\u001b[0m\u001b[1;33m,\u001b[0m \u001b[0mself\u001b[0m\u001b[1;33m.\u001b[0m\u001b[0minertia_\u001b[0m\u001b[1;33m,\u001b[0m \u001b[0mself\u001b[0m\u001b[1;33m.\u001b[0m\u001b[0mn_iter_\u001b[0m \u001b[1;33m=\u001b[0m\u001b[0;31m \u001b[0m\u001b[0;31m\\\u001b[0m\u001b[1;33m\u001b[0m\u001b[0m\n",
      "\u001b[0;32mC:\\Users\\banarn\\AppData\\Local\\Continuum\\Anaconda3\\lib\\site-packages\\sklearn\\cluster\\k_means_.py\u001b[0m in \u001b[0;36m_check_fit_data\u001b[0;34m(self, X)\u001b[0m\n\u001b[1;32m    852\u001b[0m     \u001b[1;32mdef\u001b[0m \u001b[0m_check_fit_data\u001b[0m\u001b[1;33m(\u001b[0m\u001b[0mself\u001b[0m\u001b[1;33m,\u001b[0m \u001b[0mX\u001b[0m\u001b[1;33m)\u001b[0m\u001b[1;33m:\u001b[0m\u001b[1;33m\u001b[0m\u001b[0m\n\u001b[1;32m    853\u001b[0m         \u001b[1;34m\"\"\"Verify that the number of samples given is larger than k\"\"\"\u001b[0m\u001b[1;33m\u001b[0m\u001b[0m\n\u001b[0;32m--> 854\u001b[0;31m         \u001b[0mX\u001b[0m \u001b[1;33m=\u001b[0m \u001b[0mcheck_array\u001b[0m\u001b[1;33m(\u001b[0m\u001b[0mX\u001b[0m\u001b[1;33m,\u001b[0m \u001b[0maccept_sparse\u001b[0m\u001b[1;33m=\u001b[0m\u001b[1;34m'csr'\u001b[0m\u001b[1;33m,\u001b[0m \u001b[0mdtype\u001b[0m\u001b[1;33m=\u001b[0m\u001b[1;33m[\u001b[0m\u001b[0mnp\u001b[0m\u001b[1;33m.\u001b[0m\u001b[0mfloat64\u001b[0m\u001b[1;33m,\u001b[0m \u001b[0mnp\u001b[0m\u001b[1;33m.\u001b[0m\u001b[0mfloat32\u001b[0m\u001b[1;33m]\u001b[0m\u001b[1;33m)\u001b[0m\u001b[1;33m\u001b[0m\u001b[0m\n\u001b[0m\u001b[1;32m    855\u001b[0m         \u001b[1;32mif\u001b[0m \u001b[0mX\u001b[0m\u001b[1;33m.\u001b[0m\u001b[0mshape\u001b[0m\u001b[1;33m[\u001b[0m\u001b[1;36m0\u001b[0m\u001b[1;33m]\u001b[0m \u001b[1;33m<\u001b[0m \u001b[0mself\u001b[0m\u001b[1;33m.\u001b[0m\u001b[0mn_clusters\u001b[0m\u001b[1;33m:\u001b[0m\u001b[1;33m\u001b[0m\u001b[0m\n\u001b[1;32m    856\u001b[0m             raise ValueError(\"n_samples=%d should be >= n_clusters=%d\" % (\n",
      "\u001b[0;32mC:\\Users\\banarn\\AppData\\Local\\Continuum\\Anaconda3\\lib\\site-packages\\sklearn\\utils\\validation.py\u001b[0m in \u001b[0;36mcheck_array\u001b[0;34m(array, accept_sparse, dtype, order, copy, force_all_finite, ensure_2d, allow_nd, ensure_min_samples, ensure_min_features, warn_on_dtype, estimator)\u001b[0m\n\u001b[1;32m    380\u001b[0m                                       force_all_finite)\n\u001b[1;32m    381\u001b[0m     \u001b[1;32melse\u001b[0m\u001b[1;33m:\u001b[0m\u001b[1;33m\u001b[0m\u001b[0m\n\u001b[0;32m--> 382\u001b[0;31m         \u001b[0marray\u001b[0m \u001b[1;33m=\u001b[0m \u001b[0mnp\u001b[0m\u001b[1;33m.\u001b[0m\u001b[0marray\u001b[0m\u001b[1;33m(\u001b[0m\u001b[0marray\u001b[0m\u001b[1;33m,\u001b[0m \u001b[0mdtype\u001b[0m\u001b[1;33m=\u001b[0m\u001b[0mdtype\u001b[0m\u001b[1;33m,\u001b[0m \u001b[0morder\u001b[0m\u001b[1;33m=\u001b[0m\u001b[0morder\u001b[0m\u001b[1;33m,\u001b[0m \u001b[0mcopy\u001b[0m\u001b[1;33m=\u001b[0m\u001b[0mcopy\u001b[0m\u001b[1;33m)\u001b[0m\u001b[1;33m\u001b[0m\u001b[0m\n\u001b[0m\u001b[1;32m    383\u001b[0m \u001b[1;33m\u001b[0m\u001b[0m\n\u001b[1;32m    384\u001b[0m         \u001b[1;32mif\u001b[0m \u001b[0mensure_2d\u001b[0m\u001b[1;33m:\u001b[0m\u001b[1;33m\u001b[0m\u001b[0m\n",
      "\u001b[0;31mValueError\u001b[0m: could not convert string to float: 'chary'"
     ]
    }
   ],
   "source": [
    "# K-means Clustering Model\n",
    "kmeans = cluster.KMeans(n_clusters=kClusters, n_init=200)\n",
    "# kmeans.fit(edgeMat)\n",
    "kmeans.fit(data)\n",
    "\n",
    "# Transform our data to list form and store them in results list\n",
    "results.append(list(kmeans.labels_))"
   ]
  },
  {
   "cell_type": "markdown",
   "metadata": {},
   "source": [
    "#### Agglomerative Clustering\n",
    "\n",
    "The main idea behind agglomerative clustering is that each node starts in its own cluster, and recursively merges with the pair of clusters that minimally increases a given linkage distance. The main advantage of agglomerative clustering (and hierarchical clustering in general) is that you don’t need to specify the number of clusters. That of course, comes with a price: performance. But, in scikit’s implementation, you can specify the number of clusters to assist the algorithm’s performance. To create and train an agglomerative model use the following code:"
   ]
  },
  {
   "cell_type": "code",
   "execution_count": null,
   "metadata": {
    "collapsed": true
   },
   "outputs": [],
   "source": [
    "# Agglomerative Clustering Model\n",
    "agglomerative = cluster.AgglomerativeClustering(n_clusters=kClusters, linkage=\"ward\")\n",
    "agglomerative.fit(edgeMat)\n",
    "\n",
    "# Transform our data to list form and store them in results list\n",
    "results.append(list(agglomerative.labels_))"
   ]
  },
  {
   "cell_type": "markdown",
   "metadata": {},
   "source": [
    "#### Spectral\n",
    "\n",
    "The Spectral clustering technique applies clustering to a projection of the normalized Laplacian. When it comes to image clustering, spectral clustering works quite well. See the next few lines of Python for all the magic:"
   ]
  },
  {
   "cell_type": "code",
   "execution_count": null,
   "metadata": {
    "collapsed": true
   },
   "outputs": [],
   "source": [
    "# Spectral Clustering Model\n",
    "spectral = cluster.SpectralClustering(n_clusters=kClusters, affinity=\"precomputed\", n_init= 200)\n",
    "spectral.fit(edgeMat)\n",
    "\n",
    "# Transform our data to list form and store them in results list\n",
    "results.append(list(spectral.labels_))"
   ]
  },
  {
   "cell_type": "markdown",
   "metadata": {},
   "source": [
    "#### Affinity Propagation\n",
    "\n",
    "Well this one is a bit different. Unlike the previous algorithms, you can see AF does not require the number of clusters to be determined before running the algorithm. AF, performs really well on several computer vision and biology problems, such as clustering pictures of human faces and identifying regulated transcripts:"
   ]
  },
  {
   "cell_type": "code",
   "execution_count": null,
   "metadata": {
    "collapsed": true
   },
   "outputs": [],
   "source": [
    "# Affinity Propagation Clustering Model\n",
    "affinity = cluster.affinity_propagation(S=edgeMat, max_iter=200, damping=0.6)\n",
    "\n",
    "# Transform our data to list form and store them in results list\n",
    "results.append(list(affinity[1]))"
   ]
  },
  {
   "cell_type": "markdown",
   "metadata": {},
   "source": [
    "# Metrics & Plotting"
   ]
  }
 ],
 "metadata": {
  "kernelspec": {
   "display_name": "Python 3",
   "language": "python",
   "name": "python3"
  },
  "language_info": {
   "codemirror_mode": {
    "name": "ipython",
    "version": 3
   },
   "file_extension": ".py",
   "mimetype": "text/x-python",
   "name": "python",
   "nbconvert_exporter": "python",
   "pygments_lexer": "ipython3",
   "version": "3.6.0"
  }
 },
 "nbformat": 4,
 "nbformat_minor": 2
}
