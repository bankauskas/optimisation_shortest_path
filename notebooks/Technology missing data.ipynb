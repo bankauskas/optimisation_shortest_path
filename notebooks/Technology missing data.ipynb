{
 "cells": [
  {
   "cell_type": "markdown",
   "metadata": {},
   "source": [
    "# Notebook Contents\n"
   ]
  },
  {
   "cell_type": "code",
   "execution_count": 31,
   "metadata": {
    "collapsed": false
   },
   "outputs": [],
   "source": [
    "import os\n",
    "import pyodbc \n",
    "import pandas             as pd\n",
    "import numpy              as np\n",
    "import seaborn            as sns\n",
    "import matplotlib.pyplot  as plt\n",
    "\n",
    "# Comment this if the data visualisations doesn't work\n",
    "%matplotlib inline\n",
    "plt.style.use('bmh')"
   ]
  },
  {
   "cell_type": "code",
   "execution_count": 32,
   "metadata": {
    "collapsed": false
   },
   "outputs": [],
   "source": [
    "# required pyodbc\n",
    "\n",
    "conn_str = (\n",
    "    r'DRIVER={Microsoft Access Driver (*.mdb, *.accdb)};'\n",
    "    r'DBQ=Z:\\Swedwood KR\\Department Production\\Technologist\\BOM\\DB\\Inventories_v3_be.accdb;'\n",
    "    r'UID=user;'\n",
    "    r'PWD=;'\n",
    "    )\n",
    "cnxn = pyodbc.connect(conn_str);"
   ]
  },
  {
   "cell_type": "code",
   "execution_count": 33,
   "metadata": {
    "collapsed": false
   },
   "outputs": [
    {
     "data": {
      "text/html": [
       "<div>\n",
       "<table border=\"1\" class=\"dataframe\">\n",
       "  <thead>\n",
       "    <tr style=\"text-align: right;\">\n",
       "      <th></th>\n",
       "      <th>WC</th>\n",
       "      <th>ProductAGR</th>\n",
       "      <th>ProductName</th>\n",
       "      <th>NPC</th>\n",
       "      <th>Product</th>\n",
       "      <th>BR</th>\n",
       "    </tr>\n",
       "  </thead>\n",
       "  <tbody>\n",
       "    <tr>\n",
       "      <th>0</th>\n",
       "      <td>11010</td>\n",
       "      <td>BR1-IKX204-A</td>\n",
       "      <td>Viršus</td>\n",
       "      <td>23.0</td>\n",
       "      <td>BR1-IKW204-A</td>\n",
       "      <td>BR1</td>\n",
       "    </tr>\n",
       "    <tr>\n",
       "      <th>1</th>\n",
       "      <td>11120</td>\n",
       "      <td>BR2-IRX615</td>\n",
       "      <td>Apatinė jungiamoji juosta</td>\n",
       "      <td>20.5</td>\n",
       "      <td>BR2-IRW615</td>\n",
       "      <td>BR2</td>\n",
       "    </tr>\n",
       "    <tr>\n",
       "      <th>2</th>\n",
       "      <td>11120</td>\n",
       "      <td>BR2-IRX621</td>\n",
       "      <td>Priekinė dekoratyvinė jungiamoji juosta</td>\n",
       "      <td>18.0</td>\n",
       "      <td>BR2-IRW621</td>\n",
       "      <td>BR2</td>\n",
       "    </tr>\n",
       "    <tr>\n",
       "      <th>3</th>\n",
       "      <td>18040</td>\n",
       "      <td>BP-IRO14</td>\n",
       "      <td>None</td>\n",
       "      <td>9.0</td>\n",
       "      <td>BP-IRW14</td>\n",
       "      <td>BP</td>\n",
       "    </tr>\n",
       "    <tr>\n",
       "      <th>4</th>\n",
       "      <td>18040</td>\n",
       "      <td>BP-IRO15</td>\n",
       "      <td>None</td>\n",
       "      <td>7.5</td>\n",
       "      <td>BP-IRW15</td>\n",
       "      <td>BP</td>\n",
       "    </tr>\n",
       "  </tbody>\n",
       "</table>\n",
       "</div>"
      ],
      "text/plain": [
       "      WC    ProductAGR                              ProductName   NPC  \\\n",
       "0  11010  BR1-IKX204-A                                   Viršus  23.0   \n",
       "1  11120    BR2-IRX615                Apatinė jungiamoji juosta  20.5   \n",
       "2  11120    BR2-IRX621  Priekinė dekoratyvinė jungiamoji juosta  18.0   \n",
       "3  18040      BP-IRO14                                     None   9.0   \n",
       "4  18040      BP-IRO15                                     None   7.5   \n",
       "\n",
       "        Product   BR  \n",
       "0  BR1-IKW204-A  BR1  \n",
       "1    BR2-IRW615  BR2  \n",
       "2    BR2-IRW621  BR2  \n",
       "3      BP-IRW14   BP  \n",
       "4      BP-IRW15   BP  "
      ]
     },
     "execution_count": 33,
     "metadata": {},
     "output_type": "execute_result"
    }
   ],
   "source": [
    "sql = \"\"\"   \n",
    "    SELECT \n",
    "        ITEMCHAR.WC as WC,\n",
    "        ITEMCHAR.ITEM_ID as ProductAGR,\n",
    "        ITEMCHAR.ITEM_NAME as ProductName,\n",
    "        ITEMCHAR.NPC_MAX as NPC,   \n",
    "        \n",
    "        LEFT(ITEM_ID, inStr(ITEM_ID, '-')+2) +\n",
    "            COLLORS.COLINX +\n",
    "            RIGHT(ITEM_ID, LEN(ITEM_ID)-(inStr(ITEM_ID, '-')+3)) as Product,\n",
    "            \n",
    "        LEFT(ITEM_ID, inStr(ITEM_ID, '-')-1) as BR \n",
    "        \n",
    "    FROM ITEMCHAR, COLLORS\n",
    "    WHERE \n",
    "        ITEMCHAR.COLOR_INDEX = COLLORS.UNKNOWN AND \n",
    "        ITEMCHAR.archivuotas = False \n",
    "    \"\"\"\n",
    "dataTech = pd.read_sql(sql,cnxn);\n",
    "dataTech.head()"
   ]
  },
  {
   "cell_type": "markdown",
   "metadata": {},
   "source": [
    "# Data description (dataTech):\n",
    "\n",
    "* **WC** - Worck center (Mashine) ID number in ouer system;\n",
    "* **ProductAGR** - Product ID with eliminated color parameter where suposte be color here 'X' *example: BR3-ITX104 color can be W (White), B (Black), O (Oack) or any else*;\n",
    "* **ProductName**\n",
    "* **Product**\n",
    "* **NPC** - Name Plate Capacity;\n",
    "* **BR** - Basic group of operation level;\n",
    "\n",
    "**Lietuviškai**\n",
    "\n",
    "* **WC** - Darbo centro numeris\n",
    "* **ProductAGR**\t\n",
    "* **ProductName**\t\n",
    "* **NPC**\t- iš Access duomenų bazės MAX NPC (MAX - tais atvejeis kai dėl plokštės format yra pora skirting NPC vienai detalei tame * pačiame darbo centre)\n",
    "* **Product** – SCALA detalės ID\t\n",
    "* **BR**\t\n",
    "* **Operation** – Operacijos tipas iš Scalos prie darbo centro (Čia tos loginės grupės kures turit peržiūrėti su Monika)\t\n",
    "* **Department** – 1 – Didysis cechas; 2 – Mažasis cechas (iš scalos priskirta prie darbo centro)\n",
    "* **WCActive** – Iš Scalos darbo centrui priskirtas požymis (simbolizuojantis ar įrenginys yra naudojamas 1 – Naudojamas; 0 – Nenaudojamas)\t\n",
    "* **Collection** – Kolekcija iš gaminio kodo (IRC – R)\t\n",
    "* **Color** – spalva iš gaminio kodo (IRC – C)\n",
    "* **Path** – maršrutas iš scalos (1 – pagrindinis; 2 sekantis ir t.t.)"
   ]
  },
  {
   "cell_type": "code",
   "execution_count": 34,
   "metadata": {
    "collapsed": true
   },
   "outputs": [],
   "source": [
    "# required pyodbc\n",
    "\n",
    "conn_str = (\n",
    "    r'DSN=scalaDB;'\n",
    "    r'UID=jakmar-adm;'\n",
    "    r'Trusted_Connection=Yes;'\n",
    "    r'APP=Jupyter Notebook;'\n",
    "    r'WSID=LTKAZ-NB0034;'\n",
    "    r'DATABASE=scalaSW'\n",
    "    )\n",
    "cnxn = pyodbc.connect(conn_str);"
   ]
  },
  {
   "cell_type": "code",
   "execution_count": 35,
   "metadata": {
    "collapsed": false
   },
   "outputs": [
    {
     "data": {
      "text/html": [
       "<div>\n",
       "<table border=\"1\" class=\"dataframe\">\n",
       "  <thead>\n",
       "    <tr style=\"text-align: right;\">\n",
       "      <th></th>\n",
       "      <th>Product</th>\n",
       "      <th>WC</th>\n",
       "      <th>Operation</th>\n",
       "      <th>Department</th>\n",
       "      <th>WCActive</th>\n",
       "      <th>Collection</th>\n",
       "      <th>Color</th>\n",
       "      <th>Path</th>\n",
       "    </tr>\n",
       "  </thead>\n",
       "  <tbody>\n",
       "    <tr>\n",
       "      <th>0</th>\n",
       "      <td>BP-IKB02</td>\n",
       "      <td>18040</td>\n",
       "      <td>Komplektavimas</td>\n",
       "      <td>1</td>\n",
       "      <td>1</td>\n",
       "      <td>K</td>\n",
       "      <td>B</td>\n",
       "      <td>01</td>\n",
       "    </tr>\n",
       "    <tr>\n",
       "      <th>1</th>\n",
       "      <td>BP-IKB02-1</td>\n",
       "      <td>18010</td>\n",
       "      <td>Pakavimas</td>\n",
       "      <td>1</td>\n",
       "      <td>1</td>\n",
       "      <td>K</td>\n",
       "      <td>B</td>\n",
       "      <td>01</td>\n",
       "    </tr>\n",
       "    <tr>\n",
       "      <th>2</th>\n",
       "      <td>BP-IKB02-2</td>\n",
       "      <td>18010</td>\n",
       "      <td>Pakavimas</td>\n",
       "      <td>1</td>\n",
       "      <td>1</td>\n",
       "      <td>K</td>\n",
       "      <td>B</td>\n",
       "      <td>01</td>\n",
       "    </tr>\n",
       "    <tr>\n",
       "      <th>3</th>\n",
       "      <td>BP-IKB02-2</td>\n",
       "      <td>18020</td>\n",
       "      <td>Pakavimas</td>\n",
       "      <td>1</td>\n",
       "      <td>1</td>\n",
       "      <td>K</td>\n",
       "      <td>B</td>\n",
       "      <td>02</td>\n",
       "    </tr>\n",
       "    <tr>\n",
       "      <th>4</th>\n",
       "      <td>BP-IKB02-P</td>\n",
       "      <td>18040</td>\n",
       "      <td>Komplektavimas</td>\n",
       "      <td>1</td>\n",
       "      <td>1</td>\n",
       "      <td>K</td>\n",
       "      <td>B</td>\n",
       "      <td>01</td>\n",
       "    </tr>\n",
       "  </tbody>\n",
       "</table>\n",
       "</div>"
      ],
      "text/plain": [
       "                               Product     WC       Operation Department  \\\n",
       "0  BP-IKB02                             18040  Komplektavimas          1   \n",
       "1  BP-IKB02-1                           18010       Pakavimas          1   \n",
       "2  BP-IKB02-2                           18010       Pakavimas          1   \n",
       "3  BP-IKB02-2                           18020       Pakavimas          1   \n",
       "4  BP-IKB02-P                           18040  Komplektavimas          1   \n",
       "\n",
       "  WCActive Collection Color Path  \n",
       "0        1          K     B   01  \n",
       "1        1          K     B   01  \n",
       "2        1          K     B   01  \n",
       "3        1          K     B   02  \n",
       "4        1          K     B   01  "
      ]
     },
     "execution_count": 35,
     "metadata": {},
     "output_type": "execute_result"
    }
   ],
   "source": [
    "sql = \"\"\"   \n",
    "    SET TRANSACTION ISOLATION LEVEL READ UNCOMMITTED\n",
    "\n",
    "    SELECT \n",
    "        MP63.MP63002 as Product, \n",
    "        MP63.MP63007 as WC,\n",
    "        MP50.MP50003 as Operation,\n",
    "        MP50.MP50007 as Department, \n",
    "        MP50.MP50009 as WCActive, \n",
    "        SUBSTRING(MP63.MP63002, CHARINDEX('-' ,MP63.MP63002)+2, 1) as Collection,\n",
    "        SUBSTRING(MP63.MP63002, CHARINDEX('-' ,MP63.MP63002)+3, 1) as Color,\n",
    "        MP63.MP63003 as Path\n",
    "        \n",
    "    FROM \n",
    "        scalaSW.dbo.MP63SW00 MP63,\n",
    "        scalaSW.dbo.SC01SW00 SC01,\n",
    "        scalaSW.dbo.MP50SW00 MP50\n",
    "    WHERE \n",
    "        MP63.MP63001 like 'M' AND\n",
    "        SC01.SC01001 = MP63.MP63002 AND\n",
    "        SC01.SC01091 = 0 AND\n",
    "        MP50.MP50001 = MP63.MP63007 AND \n",
    "        MP63.MP63007 NOT IN ('18070')     \n",
    "    \"\"\"\n",
    "dataPath = pd.read_sql(sql,cnxn);\n",
    "dataPath.head()"
   ]
  },
  {
   "cell_type": "markdown",
   "metadata": {
    "collapsed": true
   },
   "source": [
    "# Data description (dataPaths):\n",
    "\n",
    "* **WC** - Worck center (Mashine) ID number in ouer system;\n",
    "* **Product**\n",
    "* **Operation** - operation tipe;\n",
    "* **Department** - ;\n",
    "* **WCActive** - 0-is unussed, 1-in usse (worck center);"
   ]
  },
  {
   "cell_type": "code",
   "execution_count": 36,
   "metadata": {
    "collapsed": false
   },
   "outputs": [],
   "source": [
    "continuous = ['NPC']\n",
    "categorical = ['WC', 'ProductAGR', 'ProductName', 'Product', 'BR', 'Operation', 'Color', 'Collection', 'Path']\n",
    "binary = ['WCActive', 'Department']\n",
    "\n",
    "dataTypes = [\n",
    "    (continuous, np.float64),\n",
    "    (categorical, np.dtype('U')),\n",
    "    (binary, np.object)]"
   ]
  },
  {
   "cell_type": "code",
   "execution_count": 37,
   "metadata": {
    "collapsed": false
   },
   "outputs": [],
   "source": [
    "def transformTypes(dataTypes, data):\n",
    "    \"\"\"\n",
    "    Input:\n",
    "        dataTipes = [([field1, field2], np.tipe), ([field1, field2], np.tipe)]\n",
    "        data = pandas.Dataframe   \n",
    "    Output:\n",
    "        pandas.Dataframe\n",
    "        \n",
    "    Description:\n",
    "    >>> by name change field type\n",
    "    \"\"\"\n",
    "    \n",
    "    for fields in dataTypes:\n",
    "        \n",
    "        fieldsList = list(set(fields[0]).intersection(data.columns.values.tolist()))\n",
    "        data[fieldsList] = data[fieldsList].astype(fields[1])\n",
    "        \n",
    "    return data"
   ]
  },
  {
   "cell_type": "code",
   "execution_count": 38,
   "metadata": {
    "collapsed": false
   },
   "outputs": [],
   "source": [
    "# Sample: https://stackoverflow.com/a/15221068/7347438\n",
    "import re\n",
    "\n",
    "def multiple_replacer(*key_values):\n",
    "    replace_dict = dict(key_values)\n",
    "    replacement_function = lambda match: replace_dict[match.group(0)]\n",
    "    pattern = re.compile(\"|\".join([re.escape(k) for k, v in key_values]), re.M)\n",
    "    return lambda string: pattern.sub(replacement_function, string)\n",
    "\n",
    "def multiple_replace(string, *key_values):\n",
    "    \"\"\"\n",
    "    Example: \n",
    "    >>> replacements = (u\"café\", u\"tea\"), (u\"tea\", u\"café\"), (u\"like\", u\"love\")\n",
    "    >>> print multiple_replace(u\"Do you like café? No, I prefer tea.\", *replacements)\n",
    "    >>> Do you love tea? No, I prefer café.\n",
    "    \"\"\"\n",
    "    return multiple_replacer(*key_values)(string.strip())\n"
   ]
  },
  {
   "cell_type": "code",
   "execution_count": 39,
   "metadata": {
    "collapsed": false
   },
   "outputs": [],
   "source": [
    "dataTech = transformTypes(dataTypes, dataTech)\n",
    "dataPath = transformTypes(dataTypes, dataPath)\n",
    "\n",
    "dataTech['Product'] = dataTech['Product'].str.strip()\n",
    "dataPath['Product'] = dataPath['Product'].str.strip()\n",
    "dataPath['WC'] = dataPath['WC'].str.strip()\n",
    "dataTech['WC'] = dataTech['WC'].str.strip()"
   ]
  },
  {
   "cell_type": "code",
   "execution_count": 40,
   "metadata": {
    "collapsed": false
   },
   "outputs": [
    {
     "data": {
      "text/html": [
       "<div>\n",
       "<table border=\"1\" class=\"dataframe\">\n",
       "  <thead>\n",
       "    <tr style=\"text-align: right;\">\n",
       "      <th></th>\n",
       "      <th>WC</th>\n",
       "      <th>ProductAGR</th>\n",
       "      <th>ProductName</th>\n",
       "      <th>NPC</th>\n",
       "      <th>Product</th>\n",
       "      <th>BR</th>\n",
       "      <th>Operation</th>\n",
       "      <th>Department</th>\n",
       "      <th>WCActive</th>\n",
       "      <th>Collection</th>\n",
       "      <th>Color</th>\n",
       "      <th>Path</th>\n",
       "    </tr>\n",
       "  </thead>\n",
       "  <tbody>\n",
       "    <tr>\n",
       "      <th>0</th>\n",
       "      <td>11010</td>\n",
       "      <td>BR1-IKX204-A</td>\n",
       "      <td>Viršus</td>\n",
       "      <td>23.0</td>\n",
       "      <td>BR1-IKW204-A</td>\n",
       "      <td>BR1</td>\n",
       "      <td>Pjovimas</td>\n",
       "      <td>1</td>\n",
       "      <td>1</td>\n",
       "      <td>K</td>\n",
       "      <td>W</td>\n",
       "      <td>01</td>\n",
       "    </tr>\n",
       "    <tr>\n",
       "      <th>1</th>\n",
       "      <td>18010</td>\n",
       "      <td>BP-IKX04-2-NA</td>\n",
       "      <td>6 st. Komoda</td>\n",
       "      <td>7.0</td>\n",
       "      <td>BP-IKW04-2-NA</td>\n",
       "      <td>BP</td>\n",
       "      <td>Pakavimas</td>\n",
       "      <td>1</td>\n",
       "      <td>1</td>\n",
       "      <td>K</td>\n",
       "      <td>W</td>\n",
       "      <td>01</td>\n",
       "    </tr>\n",
       "    <tr>\n",
       "      <th>2</th>\n",
       "      <td>18010</td>\n",
       "      <td>BP-IKX04-3-NA</td>\n",
       "      <td>6 st. Komoda</td>\n",
       "      <td>7.0</td>\n",
       "      <td>BP-IKW04-3-NA</td>\n",
       "      <td>BP</td>\n",
       "      <td>Pakavimas</td>\n",
       "      <td>1</td>\n",
       "      <td>1</td>\n",
       "      <td>K</td>\n",
       "      <td>W</td>\n",
       "      <td>01</td>\n",
       "    </tr>\n",
       "    <tr>\n",
       "      <th>3</th>\n",
       "      <td>11010</td>\n",
       "      <td>BR1-IKX702</td>\n",
       "      <td>Nugarėlė</td>\n",
       "      <td>28.0</td>\n",
       "      <td>BR1-IKW702</td>\n",
       "      <td>BR1</td>\n",
       "      <td>Pjovimas</td>\n",
       "      <td>1</td>\n",
       "      <td>1</td>\n",
       "      <td>K</td>\n",
       "      <td>W</td>\n",
       "      <td>01</td>\n",
       "    </tr>\n",
       "    <tr>\n",
       "      <th>4</th>\n",
       "      <td>11010</td>\n",
       "      <td>BR1-IKX903</td>\n",
       "      <td>Stalčiaus priekis</td>\n",
       "      <td>60.0</td>\n",
       "      <td>BR1-IKW903</td>\n",
       "      <td>BR1</td>\n",
       "      <td>Pjovimas</td>\n",
       "      <td>1</td>\n",
       "      <td>1</td>\n",
       "      <td>K</td>\n",
       "      <td>W</td>\n",
       "      <td>01</td>\n",
       "    </tr>\n",
       "  </tbody>\n",
       "</table>\n",
       "</div>"
      ],
      "text/plain": [
       "      WC     ProductAGR        ProductName   NPC        Product   BR  \\\n",
       "0  11010   BR1-IKX204-A             Viršus  23.0   BR1-IKW204-A  BR1   \n",
       "1  18010  BP-IKX04-2-NA       6 st. Komoda   7.0  BP-IKW04-2-NA   BP   \n",
       "2  18010  BP-IKX04-3-NA       6 st. Komoda   7.0  BP-IKW04-3-NA   BP   \n",
       "3  11010     BR1-IKX702           Nugarėlė  28.0     BR1-IKW702  BR1   \n",
       "4  11010     BR1-IKX903  Stalčiaus priekis  60.0     BR1-IKW903  BR1   \n",
       "\n",
       "   Operation Department WCActive Collection Color Path  \n",
       "0   Pjovimas          1        1          K     W   01  \n",
       "1  Pakavimas          1        1          K     W   01  \n",
       "2  Pakavimas          1        1          K     W   01  \n",
       "3   Pjovimas          1        1          K     W   01  \n",
       "4   Pjovimas          1        1          K     W   01  "
      ]
     },
     "execution_count": 40,
     "metadata": {},
     "output_type": "execute_result"
    }
   ],
   "source": [
    "data = pd.merge(dataTech, dataPath, how = 'right', left_on=['Product','WC'], right_on = ['Product','WC'])\n",
    "# data = pd.merge(dataTech, dataPath, how = 'right', on=['Product','WC'])\n",
    "data.head()"
   ]
  },
  {
   "cell_type": "code",
   "execution_count": 41,
   "metadata": {
    "collapsed": false
   },
   "outputs": [
    {
     "name": "stdout",
     "output_type": "stream",
     "text": [
      "Bad rows (with missing values) caunt:  1137 \n",
      "Raw data shape:  (3908, 12) \n",
      "Clean data shape:  (2771, 12)\n"
     ]
    }
   ],
   "source": [
    "print('Bad rows (with missing values) caunt: ', data.shape[0]-data.dropna().shape[0],\n",
    "     '\\nRaw data shape: ', data.shape,\n",
    "     '\\nClean data shape: ', data.dropna().shape,);"
   ]
  },
  {
   "cell_type": "markdown",
   "metadata": {},
   "source": [
    "Missing data between Scala and Access databases:"
   ]
  },
  {
   "cell_type": "code",
   "execution_count": 42,
   "metadata": {
    "collapsed": false
   },
   "outputs": [
    {
     "data": {
      "text/html": [
       "<div>\n",
       "<table border=\"1\" class=\"dataframe\">\n",
       "  <thead>\n",
       "    <tr style=\"text-align: right;\">\n",
       "      <th></th>\n",
       "      <th>WC</th>\n",
       "      <th>ProductAGR</th>\n",
       "      <th>ProductName</th>\n",
       "      <th>NPC</th>\n",
       "      <th>Product</th>\n",
       "      <th>BR</th>\n",
       "      <th>Operation</th>\n",
       "      <th>Department</th>\n",
       "      <th>WCActive</th>\n",
       "      <th>Collection</th>\n",
       "      <th>Color</th>\n",
       "      <th>Path</th>\n",
       "    </tr>\n",
       "  </thead>\n",
       "  <tbody>\n",
       "    <tr>\n",
       "      <th>2771</th>\n",
       "      <td>18040</td>\n",
       "      <td>NaN</td>\n",
       "      <td>NaN</td>\n",
       "      <td>NaN</td>\n",
       "      <td>BP-IKB02-P</td>\n",
       "      <td>NaN</td>\n",
       "      <td>Komplektavimas</td>\n",
       "      <td>1</td>\n",
       "      <td>1</td>\n",
       "      <td>K</td>\n",
       "      <td>B</td>\n",
       "      <td>01</td>\n",
       "    </tr>\n",
       "    <tr>\n",
       "      <th>2772</th>\n",
       "      <td>18030</td>\n",
       "      <td>NaN</td>\n",
       "      <td>NaN</td>\n",
       "      <td>NaN</td>\n",
       "      <td>BP-IKB03-1</td>\n",
       "      <td>NaN</td>\n",
       "      <td>Pakavimas</td>\n",
       "      <td>1</td>\n",
       "      <td>0</td>\n",
       "      <td>K</td>\n",
       "      <td>B</td>\n",
       "      <td>02</td>\n",
       "    </tr>\n",
       "    <tr>\n",
       "      <th>2773</th>\n",
       "      <td>18040</td>\n",
       "      <td>NaN</td>\n",
       "      <td>NaN</td>\n",
       "      <td>NaN</td>\n",
       "      <td>BP-IKB03-P</td>\n",
       "      <td>NaN</td>\n",
       "      <td>Komplektavimas</td>\n",
       "      <td>1</td>\n",
       "      <td>1</td>\n",
       "      <td>K</td>\n",
       "      <td>B</td>\n",
       "      <td>01</td>\n",
       "    </tr>\n",
       "    <tr>\n",
       "      <th>2774</th>\n",
       "      <td>18040</td>\n",
       "      <td>NaN</td>\n",
       "      <td>NaN</td>\n",
       "      <td>NaN</td>\n",
       "      <td>BP-IKB04-P</td>\n",
       "      <td>NaN</td>\n",
       "      <td>Komplektavimas</td>\n",
       "      <td>1</td>\n",
       "      <td>1</td>\n",
       "      <td>K</td>\n",
       "      <td>B</td>\n",
       "      <td>01</td>\n",
       "    </tr>\n",
       "    <tr>\n",
       "      <th>2775</th>\n",
       "      <td>18040</td>\n",
       "      <td>NaN</td>\n",
       "      <td>NaN</td>\n",
       "      <td>NaN</td>\n",
       "      <td>BP-IKW02-AP-P</td>\n",
       "      <td>NaN</td>\n",
       "      <td>Komplektavimas</td>\n",
       "      <td>1</td>\n",
       "      <td>1</td>\n",
       "      <td>K</td>\n",
       "      <td>W</td>\n",
       "      <td>01</td>\n",
       "    </tr>\n",
       "  </tbody>\n",
       "</table>\n",
       "</div>"
      ],
      "text/plain": [
       "         WC ProductAGR ProductName  NPC        Product   BR       Operation  \\\n",
       "2771  18040        NaN         NaN  NaN     BP-IKB02-P  NaN  Komplektavimas   \n",
       "2772  18030        NaN         NaN  NaN     BP-IKB03-1  NaN       Pakavimas   \n",
       "2773  18040        NaN         NaN  NaN     BP-IKB03-P  NaN  Komplektavimas   \n",
       "2774  18040        NaN         NaN  NaN     BP-IKB04-P  NaN  Komplektavimas   \n",
       "2775  18040        NaN         NaN  NaN  BP-IKW02-AP-P  NaN  Komplektavimas   \n",
       "\n",
       "     Department WCActive Collection Color Path  \n",
       "2771          1        1          K     B   01  \n",
       "2772          1        0          K     B   02  \n",
       "2773          1        1          K     B   01  \n",
       "2774          1        1          K     B   01  \n",
       "2775          1        1          K     W   01  "
      ]
     },
     "execution_count": 42,
     "metadata": {},
     "output_type": "execute_result"
    }
   ],
   "source": [
    "nans = lambda df: df[df.isnull().any(axis=1)]\n",
    "data_nans = nans(data)\n",
    "data_nans.to_csv()\n",
    "data_nans.head()"
   ]
  },
  {
   "cell_type": "code",
   "execution_count": 43,
   "metadata": {
    "collapsed": false
   },
   "outputs": [],
   "source": [
    "import time\n",
    "timestamp = int(time.time())"
   ]
  },
  {
   "cell_type": "code",
   "execution_count": 44,
   "metadata": {
    "collapsed": false
   },
   "outputs": [],
   "source": [
    "path = 'Z:/Swedwood KR/Department Production/Technologist/BOM/Missing_data/'\n",
    "data_nans.to_csv(path + 'data_nans_{}.csv'.format(timestamp))"
   ]
  },
  {
   "cell_type": "code",
   "execution_count": 45,
   "metadata": {
    "collapsed": false
   },
   "outputs": [
    {
     "data": {
      "image/png": "[encoded data removed]",
      "text/plain": [
       "<matplotlib.figure.Figure at 0x163f22e8>"
      ]
     },
     "metadata": {},
     "output_type": "display_data"
    }
   ],
   "source": [
    "import matplotlib.gridspec as gridspec\n",
    "import math\n",
    "\n",
    "def create_plots(fields, columns = 2, width = 18, hight = 4):\n",
    "    \"\"\"\n",
    "    Input:\n",
    "        fields  = [(field_name, displa title), (...)]\n",
    "    Output:\n",
    "        grid of plots\n",
    "    \"\"\"\n",
    "    rows = math.ceil(len(fields)/columns)  \n",
    "    fig, axes = plt.subplots(rows, columns, figsize=(width, hight))\n",
    "    \n",
    "    for idx, field in enumerate(fields, start=0):\n",
    "        data_nans[field[0]].value_counts().plot(kind='bar', ax = axes[idx]);\n",
    "        axes[idx].set_title(field[1])\n",
    "        \n",
    "    return fig, axes        \n",
    "        \n",
    "fields = [('WC', 'Missing data by worck center'),\n",
    "         ('Collection', 'Missing data by collection')]\n",
    "\n",
    "create_plots(fields);"
   ]
  }
 ],
 "metadata": {
  "kernelspec": {
   "display_name": "Python 3",
   "language": "python",
   "name": "python3"
  },
  "language_info": {
   "codemirror_mode": {
    "name": "ipython",
    "version": 3
   },
   "file_extension": ".py",
   "mimetype": "text/x-python",
   "name": "python",
   "nbconvert_exporter": "python",
   "pygments_lexer": "ipython3",
   "version": "3.6.0"
  }
 },
 "nbformat": 4,
 "nbformat_minor": 2
}
